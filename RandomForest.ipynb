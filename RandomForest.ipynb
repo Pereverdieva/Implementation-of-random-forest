{
 "cells": [
  {
   "cell_type": "code",
   "execution_count": 969,
   "metadata": {},
   "outputs": [],
   "source": [
    "import numpy as np\n",
    "import pandas as pd\n",
    "import math\n",
    "import matplotlib.pyplot as plt\n",
    "%matplotlib inline\n",
    "from tqdm import tqdm, tnrange\n",
    "from tqdm.notebook import trange\n",
    "from sklearn.metrics import roc_auc_score"
   ]
  },
  {
   "cell_type": "code",
   "execution_count": 20,
   "metadata": {},
   "outputs": [
    {
     "data": {
      "text/plain": [
       "array([ 4, 10,  2, 17, 10,  2,  2, 10, 19,  9,  9, 12,  5,  4,  1, 11,  7,\n",
       "       16,  8, 10])"
      ]
     },
     "execution_count": 20,
     "metadata": {},
     "output_type": "execute_result"
    }
   ],
   "source": [
    "np.random.choice(np.arange(20), size=20, replace=True)"
   ]
  },
  {
   "cell_type": "code",
   "execution_count": 899,
   "metadata": {},
   "outputs": [],
   "source": [
    "class RandomForest:\n",
    "    def __init__(self, trees=1000, max_depth=7, alpha=1.0, beta=None, bootstrap=True, decision='avg'):\n",
    "        self.trees = trees\n",
    "        self.max_depth = max_depth\n",
    "        self.alpha = alpha\n",
    "        self.beta = beta\n",
    "        self.bootstrap = bootstrap\n",
    "        self.decision = decision\n",
    "        self._tree_array = []\n",
    "        \n",
    "    def fit(self, X, y):\n",
    "        for _ in tnrange(self.trees):\n",
    "            tree = DecisionTree(X, y, alpha=self.alpha, beta=self.beta, bootstrap=self.bootstrap, \n",
    "                                decision=self.decision, max_depth=self.max_depth)\n",
    "            self._tree_array.append(tree)\n",
    "    \n",
    "    def predict(self, x):\n",
    "        out = np.empty((self.trees))\n",
    "        for i in range(self.trees):\n",
    "            out[i] = self._tree_array[i].predict(x)\n",
    "        return sum(out) / len(out)"
   ]
  },
  {
   "cell_type": "code",
   "execution_count": 900,
   "metadata": {},
   "outputs": [],
   "source": [
    "class DecisionTree:\n",
    "    def __init__(self, X, y=None, alpha=1.0, beta=None, bootstrap=True, decision='avg', max_depth=20):\n",
    "        if len(X.shape) != 2:\n",
    "            raise AttributeError(\"X must have shape equal to 2\")\n",
    "        n_samples = X.shape[0]\n",
    "        n_features = X.shape[1]\n",
    "        if beta is None:\n",
    "            beta = 1.0 / np.sqrt(n_features)\n",
    "        cf = self._choose_features(n_features, int(n_features * beta))\n",
    "        cs = self._choose_samples(n_samples, int(n_samples * alpha), bootstrap=bootstrap)\n",
    "        X_choice = X[cs, :][:, cf]\n",
    "        y_choice = None\n",
    "        if not y is None:\n",
    "            y_choice = y[cs]\n",
    "        self.root = TreeNode(max_depth=max_depth, decision=decision)\n",
    "        self.root.fit(X_choice, y_choice)\n",
    "    \n",
    "    def _choose_features(self, n_features, target_n_features):\n",
    "        choice = np.random.choice(np.arange(n_features), size=target_n_features, replace=False)\n",
    "        return choice\n",
    "    \n",
    "    def _choose_samples(self, n_samples, target_n_samples=None, bootstrap=True):\n",
    "        if target_n_samples is None:\n",
    "            target_n_samples = n_samples\n",
    "        if bootstrap == True:\n",
    "            if target_n_samples != n_samples:\n",
    "                raise AttributeError(\"Target samples number should be equal to the dataset size when bootstrap==True\")\n",
    "        choice = np.random.choice(np.arange(n_samples), size=target_n_samples, replace=bootstrap)\n",
    "        return choice\n",
    "    \n",
    "    def predict(self, x):\n",
    "        return self.root.predict(x)"
   ]
  },
  {
   "cell_type": "code",
   "execution_count": 929,
   "metadata": {},
   "outputs": [],
   "source": [
    "class TreeNode:\n",
    "    def __init__(self, depth=0, max_depth=20, decision='avg'):\n",
    "        \"\"\"\n",
    "        decision in ('avg', 'grid')\n",
    "        \"\"\"\n",
    "        self.left = None\n",
    "        self.right = None\n",
    "        self.feature = None\n",
    "        self.cut = None\n",
    "        self.depth = depth\n",
    "        self.max_depth = max_depth\n",
    "        self.decision = decision\n",
    "        self.prediction = None\n",
    "        \n",
    "    def fit(self, X, y):\n",
    "        if y is None:\n",
    "             raise AttributeError(\"Can't fit without ground truth data\")\n",
    "        if self.depth < self.max_depth and X.shape[0] > 1 and np.unique(y).shape[0] > 1:\n",
    "            grid = self._init_grid(X, y)\n",
    "            min_loss = math.inf\n",
    "            min_args = None\n",
    "            for f_ind, values in grid.items():\n",
    "                for cut in values:\n",
    "                    loss_val = self.loss(X, y, f_ind, cut)\n",
    "                    if loss_val < min_loss:\n",
    "                        min_loss = loss_val\n",
    "                        min_args = (f_ind, cut)\n",
    "            if min_loss < math.inf:\n",
    "                self.feature = min_args[0]\n",
    "                self.cut = min_args[1]\n",
    "                self.create_children(X, y)\n",
    "            else:\n",
    "                c = y[y == 1.0].sum()\n",
    "                self.prediction = c.astype(np.float) / y.shape[0]\n",
    "        else:\n",
    "            if np.unique(y).shape[0] == 0:\n",
    "                print(\"[WARNING] No values for y\")\n",
    "            c = y[y == 1.0].sum()\n",
    "            self.prediction = c.astype(np.float) / y.shape[0]\n",
    "        \n",
    "    def _init_grid(self, X, y):\n",
    "        UNIQUE = 10\n",
    "        n_features = X.shape[1]\n",
    "        grid = {}\n",
    "        for f_num in range(n_features):\n",
    "            feature = X[:, f_num]\n",
    "            if self.decision == 'grid':\n",
    "                f_min = feature.min()\n",
    "                f_max = feature.max()\n",
    "                f_unique = sorted(np.unique(feature))\n",
    "                if len(f_unique) <= UNIQUE:\n",
    "                    vals = [(f_unique[i] + f_unique[i+1]) / 2.0 for i in range(len(f_unique) - 1)]\n",
    "                    grid[f_num] = vals\n",
    "                else:\n",
    "                    grid[f_num] = np.arange(f_min, f_max, (f_max - f_min) / UNIQUE)[1:]\n",
    "            elif self.decision == 'avg':\n",
    "                grid[f_num] = [(feature.max() - feature.min()) / 2.0]\n",
    "        return grid\n",
    "        \n",
    "    def loss(self, X, y, feature, cut):\n",
    "        mask = X[:, feature] < cut\n",
    "        y_left = y[mask]\n",
    "        y_right = y[~mask]\n",
    "        if mask.sum() == 0 or (~mask).sum() == 0:\n",
    "#             print(X.shape, feature, cut)\n",
    "            return math.inf\n",
    "        share_left = float(mask.sum()) / float(X.shape[0])\n",
    "        share_right = float((~mask).sum()) / float(X.shape[0])\n",
    "        \n",
    "        _, y_left_counts = np.unique(y_left, return_counts=True)\n",
    "        _, y_right_counts = np.unique(y_right, return_counts=True)\n",
    "        part_left = y_left_counts / float(y_left.shape[0])\n",
    "        part_right = y_right_counts / float(y_right.shape[0])\n",
    "        entr_left = 1.0 - part_left.dot(part_left)\n",
    "        entr_right = 1.0 - part_right.dot(part_right)\n",
    "        return share_left * entr_left + share_right * entr_right\n",
    "    \n",
    "    def create_children(self, X, y):\n",
    "        mask = X[:, self.feature] < self.cut\n",
    "        X_left = X[mask, :]\n",
    "        X_right = X[~mask, :]\n",
    "        y_left = y[mask]\n",
    "        y_right = y[~mask]\n",
    "        self.left = TreeNode(self.depth + 1, decision=self.decision, max_depth=self.max_depth)\n",
    "        self.left.fit(X_left, y_left)\n",
    "        self.right = TreeNode(self.depth + 1, decision=self.decision, max_depth=self.max_depth)\n",
    "        self.right.fit(X_right, y_right)\n",
    "    \n",
    "    def predict(self, x):\n",
    "        if self.prediction is None:\n",
    "            mask = x[self.feature] < self.cut\n",
    "            if mask:\n",
    "                pred = self.left.predict(x)\n",
    "            else:\n",
    "                pred = self.right.predict(x)\n",
    "        else:\n",
    "            pred = self.prediction\n",
    "            \n",
    "        return pred        "
   ]
  },
  {
   "cell_type": "code",
   "execution_count": 846,
   "metadata": {},
   "outputs": [],
   "source": [
    "b = DecisionTree(X_train, y_train, beta=1.0)"
   ]
  },
  {
   "cell_type": "code",
   "execution_count": 581,
   "metadata": {},
   "outputs": [],
   "source": [
    "out_test = np.empty(y_test.shape)\n",
    "for i in range(X_test.shape[0]):\n",
    "    out_test[i] = b.predict(X_test[i])"
   ]
  },
  {
   "cell_type": "code",
   "execution_count": 582,
   "metadata": {},
   "outputs": [],
   "source": [
    "out_train = np.empty(y_train.shape)\n",
    "for i in range(X_train.shape[0]):\n",
    "    out_train[i] = b.predict(X_train[i])"
   ]
  },
  {
   "cell_type": "code",
   "execution_count": 583,
   "metadata": {},
   "outputs": [],
   "source": [
    "def accuracy(y, out):\n",
    "    return (y == out).sum() / y.shape[0]"
   ]
  },
  {
   "cell_type": "code",
   "execution_count": 584,
   "metadata": {},
   "outputs": [
    {
     "data": {
      "text/plain": [
       "0.5398773006134969"
      ]
     },
     "execution_count": 584,
     "metadata": {},
     "output_type": "execute_result"
    }
   ],
   "source": [
    "accuracy(y_test, out_test)"
   ]
  },
  {
   "cell_type": "code",
   "execution_count": 585,
   "metadata": {},
   "outputs": [
    {
     "data": {
      "text/plain": [
       "0.5446"
      ]
     },
     "execution_count": 585,
     "metadata": {},
     "output_type": "execute_result"
    }
   ],
   "source": [
    "accuracy(y_train, out_train)"
   ]
  },
  {
   "cell_type": "code",
   "execution_count": 883,
   "metadata": {},
   "outputs": [
    {
     "data": {
      "text/plain": [
       "array([ 4.5,  6. ,  7.5,  9. , 10.5, 12. , 13.5, 15. , 16.5])"
      ]
     },
     "execution_count": 883,
     "metadata": {},
     "output_type": "execute_result"
    }
   ],
   "source": [
    "np.arange(3, 18, (18.0 - 3.0) / 10.0)[1:]"
   ]
  },
  {
   "cell_type": "code",
   "execution_count": 961,
   "metadata": {},
   "outputs": [],
   "source": [
    "f = RandomForest(decision='grid', trees=100, max_depth = 1000)"
   ]
  },
  {
   "cell_type": "code",
   "execution_count": 962,
   "metadata": {},
   "outputs": [
    {
     "name": "stderr",
     "output_type": "stream",
     "text": [
      "/Users/matsuk/anaconda3/envs/mds/lib/python3.6/site-packages/ipykernel_launcher.py:12: TqdmDeprecationWarning: Please use `tqdm.notebook.trange` instead of `tqdm.tnrange`\n",
      "  if sys.path[0] == '':\n"
     ]
    },
    {
     "data": {
      "application/vnd.jupyter.widget-view+json": {
       "model_id": "cdb46f2840f94d5ebd67b95c6c447842",
       "version_major": 2,
       "version_minor": 0
      },
      "text/plain": [
       "  0%|          | 0/100 [00:00<?, ?it/s]"
      ]
     },
     "metadata": {},
     "output_type": "display_data"
    }
   ],
   "source": [
    "f.fit(X_train, y_train)"
   ]
  },
  {
   "cell_type": "code",
   "execution_count": 963,
   "metadata": {},
   "outputs": [
    {
     "name": "stderr",
     "output_type": "stream",
     "text": [
      "/Users/matsuk/anaconda3/envs/mds/lib/python3.6/site-packages/ipykernel_launcher.py:2: TqdmDeprecationWarning: Please use `tqdm.notebook.trange` instead of `tqdm.tnrange`\n",
      "  \n"
     ]
    },
    {
     "data": {
      "application/vnd.jupyter.widget-view+json": {
       "model_id": "e71ef96fd65843fea8718177ea69e57b",
       "version_major": 2,
       "version_minor": 0
      },
      "text/plain": [
       "  0%|          | 0/10000 [00:00<?, ?it/s]"
      ]
     },
     "metadata": {},
     "output_type": "display_data"
    }
   ],
   "source": [
    "out_train = np.empty(y_train.shape)\n",
    "for i in tnrange(X_train.shape[0]):\n",
    "    out_train[i] = f.predict(X_train[i])"
   ]
  },
  {
   "cell_type": "code",
   "execution_count": 964,
   "metadata": {},
   "outputs": [
    {
     "name": "stderr",
     "output_type": "stream",
     "text": [
      "/Users/matsuk/anaconda3/envs/mds/lib/python3.6/site-packages/ipykernel_launcher.py:2: TqdmDeprecationWarning: Please use `tqdm.notebook.trange` instead of `tqdm.tnrange`\n",
      "  \n"
     ]
    },
    {
     "data": {
      "application/vnd.jupyter.widget-view+json": {
       "model_id": "3946dd3c75494fdebe92de0576f9c38b",
       "version_major": 2,
       "version_minor": 0
      },
      "text/plain": [
       "  0%|          | 0/3912 [00:00<?, ?it/s]"
      ]
     },
     "metadata": {},
     "output_type": "display_data"
    }
   ],
   "source": [
    "out_test = np.empty(y_test.shape)\n",
    "for i in tnrange(X_test.shape[0]):\n",
    "    out_test[i] = f.predict(X_test[i])"
   ]
  },
  {
   "cell_type": "code",
   "execution_count": 906,
   "metadata": {},
   "outputs": [
    {
     "data": {
      "text/plain": [
       "0.0"
      ]
     },
     "execution_count": 906,
     "metadata": {},
     "output_type": "execute_result"
    }
   ],
   "source": [
    "accuracy(y_test, out_test)"
   ]
  },
  {
   "cell_type": "code",
   "execution_count": 907,
   "metadata": {},
   "outputs": [
    {
     "data": {
      "text/plain": [
       "0.0"
      ]
     },
     "execution_count": 907,
     "metadata": {},
     "output_type": "execute_result"
    }
   ],
   "source": [
    "accuracy(y_train, out_train)"
   ]
  },
  {
   "cell_type": "code",
   "execution_count": 965,
   "metadata": {},
   "outputs": [
    {
     "data": {
      "text/plain": [
       "0.7036098024449771"
      ]
     },
     "execution_count": 965,
     "metadata": {},
     "output_type": "execute_result"
    }
   ],
   "source": [
    "roc_value = roc_auc_score(y_test, out_test)\n",
    "roc_value"
   ]
  },
  {
   "cell_type": "code",
   "execution_count": 966,
   "metadata": {},
   "outputs": [
    {
     "data": {
      "text/plain": [
       "0.6979674020819828"
      ]
     },
     "execution_count": 966,
     "metadata": {},
     "output_type": "execute_result"
    }
   ],
   "source": [
    "roc_value = roc_auc_score(y_train, out_train)\n",
    "roc_value"
   ]
  },
  {
   "cell_type": "code",
   "execution_count": 970,
   "metadata": {},
   "outputs": [
    {
     "name": "stderr",
     "output_type": "stream",
     "text": [
      "/Users/matsuk/anaconda3/envs/mds/lib/python3.6/site-packages/ipykernel_launcher.py:12: TqdmDeprecationWarning: Please use `tqdm.notebook.trange` instead of `tqdm.tnrange`\n",
      "  if sys.path[0] == '':\n"
     ]
    },
    {
     "data": {
      "application/vnd.jupyter.widget-view+json": {
       "model_id": "a7c8fd8e9ae540e58779b9b5d437b953",
       "version_major": 2,
       "version_minor": 0
      },
      "text/plain": [
       "  0%|          | 0/100 [00:00<?, ?it/s]"
      ]
     },
     "metadata": {},
     "output_type": "display_data"
    },
    {
     "data": {
      "application/vnd.jupyter.widget-view+json": {
       "model_id": "f1866417f7ac46358ed00146b5b55e63",
       "version_major": 2,
       "version_minor": 0
      },
      "text/plain": [
       "  0%|          | 0/10000 [00:00<?, ?it/s]"
      ]
     },
     "metadata": {},
     "output_type": "display_data"
    },
    {
     "data": {
      "application/vnd.jupyter.widget-view+json": {
       "model_id": "842305fc774242c8a09a1ba9da732f81",
       "version_major": 2,
       "version_minor": 0
      },
      "text/plain": [
       "  0%|          | 0/3912 [00:00<?, ?it/s]"
      ]
     },
     "metadata": {},
     "output_type": "display_data"
    },
    {
     "name": "stdout",
     "output_type": "stream",
     "text": [
      "0.7093692627458524\n",
      "0.722830906577804\n"
     ]
    },
    {
     "name": "stderr",
     "output_type": "stream",
     "text": [
      "/Users/matsuk/anaconda3/envs/mds/lib/python3.6/site-packages/ipykernel_launcher.py:12: TqdmDeprecationWarning: Please use `tqdm.notebook.trange` instead of `tqdm.tnrange`\n",
      "  if sys.path[0] == '':\n"
     ]
    },
    {
     "data": {
      "application/vnd.jupyter.widget-view+json": {
       "model_id": "d001fc31b1414db4b40b7af3e39d940b",
       "version_major": 2,
       "version_minor": 0
      },
      "text/plain": [
       "  0%|          | 0/100 [00:00<?, ?it/s]"
      ]
     },
     "metadata": {},
     "output_type": "display_data"
    },
    {
     "data": {
      "application/vnd.jupyter.widget-view+json": {
       "model_id": "f6c63c04dd1d4eefbab3e8ab1776b311",
       "version_major": 2,
       "version_minor": 0
      },
      "text/plain": [
       "  0%|          | 0/10000 [00:00<?, ?it/s]"
      ]
     },
     "metadata": {},
     "output_type": "display_data"
    },
    {
     "data": {
      "application/vnd.jupyter.widget-view+json": {
       "model_id": "cf0d5a7a0c5e4f27b13a2921a38148cf",
       "version_major": 2,
       "version_minor": 0
      },
      "text/plain": [
       "  0%|          | 0/3912 [00:00<?, ?it/s]"
      ]
     },
     "metadata": {},
     "output_type": "display_data"
    },
    {
     "name": "stdout",
     "output_type": "stream",
     "text": [
      "0.7138893137904752\n",
      "0.715101103639731\n"
     ]
    },
    {
     "name": "stderr",
     "output_type": "stream",
     "text": [
      "/Users/matsuk/anaconda3/envs/mds/lib/python3.6/site-packages/ipykernel_launcher.py:12: TqdmDeprecationWarning: Please use `tqdm.notebook.trange` instead of `tqdm.tnrange`\n",
      "  if sys.path[0] == '':\n"
     ]
    },
    {
     "data": {
      "application/vnd.jupyter.widget-view+json": {
       "model_id": "6f7dffab57f14800b8df6a3f90406cb9",
       "version_major": 2,
       "version_minor": 0
      },
      "text/plain": [
       "  0%|          | 0/100 [00:00<?, ?it/s]"
      ]
     },
     "metadata": {},
     "output_type": "display_data"
    },
    {
     "data": {
      "application/vnd.jupyter.widget-view+json": {
       "model_id": "d16f359d288c4f4c80a8ed381639d590",
       "version_major": 2,
       "version_minor": 0
      },
      "text/plain": [
       "  0%|          | 0/10000 [00:00<?, ?it/s]"
      ]
     },
     "metadata": {},
     "output_type": "display_data"
    },
    {
     "data": {
      "application/vnd.jupyter.widget-view+json": {
       "model_id": "c4e053b6db074295b11e843d18370efb",
       "version_major": 2,
       "version_minor": 0
      },
      "text/plain": [
       "  0%|          | 0/3912 [00:00<?, ?it/s]"
      ]
     },
     "metadata": {},
     "output_type": "display_data"
    },
    {
     "name": "stdout",
     "output_type": "stream",
     "text": [
      "0.7025415233980378\n",
      "0.7315226192571731\n"
     ]
    },
    {
     "name": "stderr",
     "output_type": "stream",
     "text": [
      "/Users/matsuk/anaconda3/envs/mds/lib/python3.6/site-packages/ipykernel_launcher.py:12: TqdmDeprecationWarning: Please use `tqdm.notebook.trange` instead of `tqdm.tnrange`\n",
      "  if sys.path[0] == '':\n"
     ]
    },
    {
     "data": {
      "application/vnd.jupyter.widget-view+json": {
       "model_id": "dde5fde916484a2789de27ebae1f4322",
       "version_major": 2,
       "version_minor": 0
      },
      "text/plain": [
       "  0%|          | 0/100 [00:00<?, ?it/s]"
      ]
     },
     "metadata": {},
     "output_type": "display_data"
    },
    {
     "data": {
      "application/vnd.jupyter.widget-view+json": {
       "model_id": "4cf67510f30b4fff8a7028d92711306f",
       "version_major": 2,
       "version_minor": 0
      },
      "text/plain": [
       "  0%|          | 0/10000 [00:00<?, ?it/s]"
      ]
     },
     "metadata": {},
     "output_type": "display_data"
    },
    {
     "data": {
      "application/vnd.jupyter.widget-view+json": {
       "model_id": "a22b903fb17b4f46b25c79fa30edf350",
       "version_major": 2,
       "version_minor": 0
      },
      "text/plain": [
       "  0%|          | 0/3912 [00:00<?, ?it/s]"
      ]
     },
     "metadata": {},
     "output_type": "display_data"
    },
    {
     "name": "stdout",
     "output_type": "stream",
     "text": [
      "0.6680485773641197\n",
      "0.6640171846186462\n"
     ]
    },
    {
     "name": "stderr",
     "output_type": "stream",
     "text": [
      "/Users/matsuk/anaconda3/envs/mds/lib/python3.6/site-packages/ipykernel_launcher.py:12: TqdmDeprecationWarning: Please use `tqdm.notebook.trange` instead of `tqdm.tnrange`\n",
      "  if sys.path[0] == '':\n"
     ]
    },
    {
     "data": {
      "application/vnd.jupyter.widget-view+json": {
       "model_id": "bc46c45d26434c1bb38a325ca36fd5f5",
       "version_major": 2,
       "version_minor": 0
      },
      "text/plain": [
       "  0%|          | 0/100 [00:00<?, ?it/s]"
      ]
     },
     "metadata": {},
     "output_type": "display_data"
    },
    {
     "data": {
      "application/vnd.jupyter.widget-view+json": {
       "model_id": "db4c7d6b7ab649c88b1d0928e1fb74fe",
       "version_major": 2,
       "version_minor": 0
      },
      "text/plain": [
       "  0%|          | 0/10000 [00:00<?, ?it/s]"
      ]
     },
     "metadata": {},
     "output_type": "display_data"
    },
    {
     "data": {
      "application/vnd.jupyter.widget-view+json": {
       "model_id": "907442315953422fb9813c9153fb9030",
       "version_major": 2,
       "version_minor": 0
      },
      "text/plain": [
       "  0%|          | 0/3912 [00:00<?, ?it/s]"
      ]
     },
     "metadata": {},
     "output_type": "display_data"
    },
    {
     "name": "stdout",
     "output_type": "stream",
     "text": [
      "0.7177366150590517\n",
      "0.7191495336035989\n"
     ]
    },
    {
     "name": "stderr",
     "output_type": "stream",
     "text": [
      "/Users/matsuk/anaconda3/envs/mds/lib/python3.6/site-packages/ipykernel_launcher.py:12: TqdmDeprecationWarning: Please use `tqdm.notebook.trange` instead of `tqdm.tnrange`\n",
      "  if sys.path[0] == '':\n"
     ]
    },
    {
     "data": {
      "application/vnd.jupyter.widget-view+json": {
       "model_id": "d2a8f7407ccc473f8df5030f17082a12",
       "version_major": 2,
       "version_minor": 0
      },
      "text/plain": [
       "  0%|          | 0/100 [00:00<?, ?it/s]"
      ]
     },
     "metadata": {},
     "output_type": "display_data"
    },
    {
     "data": {
      "application/vnd.jupyter.widget-view+json": {
       "model_id": "0d8ec07b24584992b38b397af792d5f3",
       "version_major": 2,
       "version_minor": 0
      },
      "text/plain": [
       "  0%|          | 0/10000 [00:00<?, ?it/s]"
      ]
     },
     "metadata": {},
     "output_type": "display_data"
    },
    {
     "data": {
      "application/vnd.jupyter.widget-view+json": {
       "model_id": "1b685ff246d044389532047b5022ded2",
       "version_major": 2,
       "version_minor": 0
      },
      "text/plain": [
       "  0%|          | 0/3912 [00:00<?, ?it/s]"
      ]
     },
     "metadata": {},
     "output_type": "display_data"
    },
    {
     "name": "stdout",
     "output_type": "stream",
     "text": [
      "0.7078532684836294\n",
      "0.7072805916432602\n"
     ]
    },
    {
     "name": "stderr",
     "output_type": "stream",
     "text": [
      "/Users/matsuk/anaconda3/envs/mds/lib/python3.6/site-packages/ipykernel_launcher.py:12: TqdmDeprecationWarning: Please use `tqdm.notebook.trange` instead of `tqdm.tnrange`\n",
      "  if sys.path[0] == '':\n"
     ]
    },
    {
     "data": {
      "application/vnd.jupyter.widget-view+json": {
       "model_id": "bf74188afa344e0fb36983695399efa9",
       "version_major": 2,
       "version_minor": 0
      },
      "text/plain": [
       "  0%|          | 0/100 [00:00<?, ?it/s]"
      ]
     },
     "metadata": {},
     "output_type": "display_data"
    },
    {
     "data": {
      "application/vnd.jupyter.widget-view+json": {
       "model_id": "a91bd6867b7d4cd48b9d8894c24c9047",
       "version_major": 2,
       "version_minor": 0
      },
      "text/plain": [
       "  0%|          | 0/10000 [00:00<?, ?it/s]"
      ]
     },
     "metadata": {},
     "output_type": "display_data"
    },
    {
     "data": {
      "application/vnd.jupyter.widget-view+json": {
       "model_id": "b3d9ce935c3d4162a6449d7bfc74ba02",
       "version_major": 2,
       "version_minor": 0
      },
      "text/plain": [
       "  0%|          | 0/3912 [00:00<?, ?it/s]"
      ]
     },
     "metadata": {},
     "output_type": "display_data"
    },
    {
     "name": "stdout",
     "output_type": "stream",
     "text": [
      "0.6548001151936622\n",
      "0.6771570940886434\n"
     ]
    },
    {
     "name": "stderr",
     "output_type": "stream",
     "text": [
      "/Users/matsuk/anaconda3/envs/mds/lib/python3.6/site-packages/ipykernel_launcher.py:12: TqdmDeprecationWarning: Please use `tqdm.notebook.trange` instead of `tqdm.tnrange`\n",
      "  if sys.path[0] == '':\n"
     ]
    },
    {
     "data": {
      "application/vnd.jupyter.widget-view+json": {
       "model_id": "e964c8c4502444cfbb538d1c7515a9e6",
       "version_major": 2,
       "version_minor": 0
      },
      "text/plain": [
       "  0%|          | 0/100 [00:00<?, ?it/s]"
      ]
     },
     "metadata": {},
     "output_type": "display_data"
    },
    {
     "data": {
      "application/vnd.jupyter.widget-view+json": {
       "model_id": "80f8899aedfe4641beeee4e0d9f733b9",
       "version_major": 2,
       "version_minor": 0
      },
      "text/plain": [
       "  0%|          | 0/10000 [00:00<?, ?it/s]"
      ]
     },
     "metadata": {},
     "output_type": "display_data"
    },
    {
     "data": {
      "application/vnd.jupyter.widget-view+json": {
       "model_id": "4521bbc8dd514cfa9658eaa919ad73b7",
       "version_major": 2,
       "version_minor": 0
      },
      "text/plain": [
       "  0%|          | 0/3912 [00:00<?, ?it/s]"
      ]
     },
     "metadata": {},
     "output_type": "display_data"
    },
    {
     "name": "stdout",
     "output_type": "stream",
     "text": [
      "0.7013903811619463\n",
      "0.7005818883724086\n"
     ]
    },
    {
     "name": "stderr",
     "output_type": "stream",
     "text": [
      "/Users/matsuk/anaconda3/envs/mds/lib/python3.6/site-packages/ipykernel_launcher.py:12: TqdmDeprecationWarning: Please use `tqdm.notebook.trange` instead of `tqdm.tnrange`\n",
      "  if sys.path[0] == '':\n"
     ]
    },
    {
     "data": {
      "application/vnd.jupyter.widget-view+json": {
       "model_id": "33d00fa3f59a400da5ea2cec1b621fa7",
       "version_major": 2,
       "version_minor": 0
      },
      "text/plain": [
       "  0%|          | 0/100 [00:00<?, ?it/s]"
      ]
     },
     "metadata": {},
     "output_type": "display_data"
    },
    {
     "data": {
      "application/vnd.jupyter.widget-view+json": {
       "model_id": "88f0b8c2de1945549ed43be818b2cd02",
       "version_major": 2,
       "version_minor": 0
      },
      "text/plain": [
       "  0%|          | 0/10000 [00:00<?, ?it/s]"
      ]
     },
     "metadata": {},
     "output_type": "display_data"
    },
    {
     "data": {
      "application/vnd.jupyter.widget-view+json": {
       "model_id": "4538e895f2a64396b7c94c6b7330cdd3",
       "version_major": 2,
       "version_minor": 0
      },
      "text/plain": [
       "  0%|          | 0/3912 [00:00<?, ?it/s]"
      ]
     },
     "metadata": {},
     "output_type": "display_data"
    },
    {
     "name": "stdout",
     "output_type": "stream",
     "text": [
      "0.6671562639872499\n",
      "0.6591589355433103\n"
     ]
    },
    {
     "name": "stderr",
     "output_type": "stream",
     "text": [
      "/Users/matsuk/anaconda3/envs/mds/lib/python3.6/site-packages/ipykernel_launcher.py:12: TqdmDeprecationWarning: Please use `tqdm.notebook.trange` instead of `tqdm.tnrange`\n",
      "  if sys.path[0] == '':\n"
     ]
    },
    {
     "data": {
      "application/vnd.jupyter.widget-view+json": {
       "model_id": "75c3bc01688b4156bb13b798a4fa743b",
       "version_major": 2,
       "version_minor": 0
      },
      "text/plain": [
       "  0%|          | 0/100 [00:00<?, ?it/s]"
      ]
     },
     "metadata": {},
     "output_type": "display_data"
    },
    {
     "data": {
      "application/vnd.jupyter.widget-view+json": {
       "model_id": "38faa7a40574416dbc44150a5cf1c4a2",
       "version_major": 2,
       "version_minor": 0
      },
      "text/plain": [
       "  0%|          | 0/10000 [00:00<?, ?it/s]"
      ]
     },
     "metadata": {},
     "output_type": "display_data"
    },
    {
     "data": {
      "application/vnd.jupyter.widget-view+json": {
       "model_id": "1d6080e631f14cbfaf3dab64a19186c1",
       "version_major": 2,
       "version_minor": 0
      },
      "text/plain": [
       "  0%|          | 0/3912 [00:00<?, ?it/s]"
      ]
     },
     "metadata": {},
     "output_type": "display_data"
    },
    {
     "name": "stdout",
     "output_type": "stream",
     "text": [
      "0.6751452012908645\n",
      "0.69682545485848\n"
     ]
    }
   ],
   "source": [
    "auc = []\n",
    "for i in range(10):\n",
    "    tr_mask = np.zeros(df.shape[0], dtype=bool)\n",
    "    tr_mask[:tr_n] = True\n",
    "    np.random.shuffle(tr_mask)\n",
    "\n",
    "    X_data = df.drop(df.columns[[0]], axis=1).to_numpy()\n",
    "    y_data = df['AH'].to_numpy()\n",
    "    tr_n = 10000\n",
    "\n",
    "    X_train = X_data[tr_mask]\n",
    "    y_train = y_data[tr_mask]\n",
    "    X_test = X_data[~tr_mask]\n",
    "    y_test = y_data[~tr_mask]\n",
    "    f = RandomForest(decision='grid', trees=100, max_depth = 1000)\n",
    "    f.fit(X_train, y_train)\n",
    "    \n",
    "    out_train = np.empty(y_train.shape)\n",
    "    for i in trange(X_train.shape[0]):\n",
    "        out_train[i] = f.predict(X_train[i])\n",
    "\n",
    "    out_test = np.empty(y_test.shape)\n",
    "    for i in trange(X_test.shape[0]):\n",
    "        out_test[i] = f.predict(X_test[i])\n",
    "\n",
    "    roc_value_test = roc_auc_score(y_test, out_test)\n",
    "    print(roc_value_test)\n",
    "    roc_value_train = roc_auc_score(y_train, out_train)\n",
    "    print(roc_value_train)\n",
    "    auc.append((roc_value_test, roc_value_train))"
   ]
  },
  {
   "cell_type": "code",
   "execution_count": 979,
   "metadata": {},
   "outputs": [
    {
     "name": "stdout",
     "output_type": "stream",
     "text": [
      "[(0.7093692627458524, 0.722830906577804), (0.7138893137904752, 0.715101103639731), (0.7025415233980378, 0.7315226192571731), (0.6680485773641197, 0.6640171846186462), (0.7177366150590517, 0.7191495336035989), (0.7078532684836294, 0.7072805916432602), (0.6548001151936622, 0.6771570940886434), (0.7013903811619463, 0.7005818883724086), (0.6671562639872499, 0.6591589355433103), (0.6751452012908645, 0.69682545485848)]\n"
     ]
    }
   ],
   "source": [
    "print(auc)"
   ]
  },
  {
   "cell_type": "code",
   "execution_count": 978,
   "metadata": {},
   "outputs": [
    {
     "name": "stdout",
     "output_type": "stream",
     "text": [
      "0.691793052247489\n",
      "0.6993625312203056\n"
     ]
    }
   ],
   "source": [
    "print(sum([x[0] for x in auc]) / len(auc))\n",
    "print(sum([x[1] for x in auc]) / len(auc))"
   ]
  },
  {
   "cell_type": "code",
   "execution_count": 455,
   "metadata": {},
   "outputs": [
    {
     "data": {
      "image/png": "[encoded data removed]",
      "text/plain": [
       "<Figure size 720x720 with 1 Axes>"
      ]
     },
     "metadata": {
      "needs_background": "light"
     },
     "output_type": "display_data"
    }
   ],
   "source": [
    "r1 = np.random.normal(size=(200, 2))\n",
    "y1 = np.zeros((200))\n",
    "fig = plt.figure(figsize=(10,10))\n",
    "plt.scatter(r1[:,0], r1[:,1])\n",
    "r2 = np.random.normal(size=(200, 2)) + 3\n",
    "y2 = np.ones((200))\n",
    "plt.scatter(r2[:,0], r2[:,1])\n",
    "r = np.concatenate((r1, r2))\n",
    "y = np.concatenate((y1, y2))"
   ]
  },
  {
   "cell_type": "code",
   "execution_count": 495,
   "metadata": {},
   "outputs": [],
   "source": [
    "rtest1 = np.random.normal(size=(100, 2))\n",
    "rtest2 = np.random.normal(size=(100, 2)) + 3\n",
    "ytest1 = np.zeros((100))\n",
    "ytest2 = np.ones((100))\n",
    "rtest = np.concatenate((rtest1, rtest2))\n",
    "ytest = np.concatenate((ytest1, ytest2))"
   ]
  },
  {
   "cell_type": "code",
   "execution_count": 449,
   "metadata": {},
   "outputs": [],
   "source": [
    "df = pd.DataFrame(r)"
   ]
  },
  {
   "cell_type": "code",
   "execution_count": 450,
   "metadata": {},
   "outputs": [
    {
     "data": {
      "text/html": [
       "<div>\n",
       "<style scoped>\n",
       "    .dataframe tbody tr th:only-of-type {\n",
       "        vertical-align: middle;\n",
       "    }\n",
       "\n",
       "    .dataframe tbody tr th {\n",
       "        vertical-align: top;\n",
       "    }\n",
       "\n",
       "    .dataframe thead th {\n",
       "        text-align: right;\n",
       "    }\n",
       "</style>\n",
       "<table border=\"1\" class=\"dataframe\">\n",
       "  <thead>\n",
       "    <tr style=\"text-align: right;\">\n",
       "      <th></th>\n",
       "      <th>0</th>\n",
       "      <th>1</th>\n",
       "    </tr>\n",
       "  </thead>\n",
       "  <tbody>\n",
       "    <tr>\n",
       "      <th>0</th>\n",
       "      <td>1.751493</td>\n",
       "      <td>0.093735</td>\n",
       "    </tr>\n",
       "    <tr>\n",
       "      <th>1</th>\n",
       "      <td>0.294413</td>\n",
       "      <td>-0.277744</td>\n",
       "    </tr>\n",
       "    <tr>\n",
       "      <th>2</th>\n",
       "      <td>0.625078</td>\n",
       "      <td>0.449235</td>\n",
       "    </tr>\n",
       "    <tr>\n",
       "      <th>3</th>\n",
       "      <td>0.195692</td>\n",
       "      <td>-1.641908</td>\n",
       "    </tr>\n",
       "    <tr>\n",
       "      <th>4</th>\n",
       "      <td>-1.577082</td>\n",
       "      <td>-0.212227</td>\n",
       "    </tr>\n",
       "    <tr>\n",
       "      <th>...</th>\n",
       "      <td>...</td>\n",
       "      <td>...</td>\n",
       "    </tr>\n",
       "    <tr>\n",
       "      <th>395</th>\n",
       "      <td>3.593105</td>\n",
       "      <td>2.889539</td>\n",
       "    </tr>\n",
       "    <tr>\n",
       "      <th>396</th>\n",
       "      <td>2.360729</td>\n",
       "      <td>2.567724</td>\n",
       "    </tr>\n",
       "    <tr>\n",
       "      <th>397</th>\n",
       "      <td>2.508296</td>\n",
       "      <td>3.810748</td>\n",
       "    </tr>\n",
       "    <tr>\n",
       "      <th>398</th>\n",
       "      <td>3.972253</td>\n",
       "      <td>2.071025</td>\n",
       "    </tr>\n",
       "    <tr>\n",
       "      <th>399</th>\n",
       "      <td>3.657178</td>\n",
       "      <td>4.399190</td>\n",
       "    </tr>\n",
       "  </tbody>\n",
       "</table>\n",
       "<p>400 rows × 2 columns</p>\n",
       "</div>"
      ],
      "text/plain": [
       "            0         1\n",
       "0    1.751493  0.093735\n",
       "1    0.294413 -0.277744\n",
       "2    0.625078  0.449235\n",
       "3    0.195692 -1.641908\n",
       "4   -1.577082 -0.212227\n",
       "..        ...       ...\n",
       "395  3.593105  2.889539\n",
       "396  2.360729  2.567724\n",
       "397  2.508296  3.810748\n",
       "398  3.972253  2.071025\n",
       "399  3.657178  4.399190\n",
       "\n",
       "[400 rows x 2 columns]"
      ]
     },
     "execution_count": 450,
     "metadata": {},
     "output_type": "execute_result"
    }
   ],
   "source": [
    "df"
   ]
  },
  {
   "cell_type": "code",
   "execution_count": 955,
   "metadata": {},
   "outputs": [],
   "source": [
    "df = pd.read_csv('df_21jan.csv', delimiter=';', decimal=',')"
   ]
  },
  {
   "cell_type": "code",
   "execution_count": 956,
   "metadata": {},
   "outputs": [
    {
     "data": {
      "text/html": [
       "<div>\n",
       "<style scoped>\n",
       "    .dataframe tbody tr th:only-of-type {\n",
       "        vertical-align: middle;\n",
       "    }\n",
       "\n",
       "    .dataframe tbody tr th {\n",
       "        vertical-align: top;\n",
       "    }\n",
       "\n",
       "    .dataframe thead th {\n",
       "        text-align: right;\n",
       "    }\n",
       "</style>\n",
       "<table border=\"1\" class=\"dataframe\">\n",
       "  <thead>\n",
       "    <tr style=\"text-align: right;\">\n",
       "      <th></th>\n",
       "      <th>AH</th>\n",
       "      <th>SEX</th>\n",
       "      <th>AGE</th>\n",
       "      <th>LDL</th>\n",
       "      <th>HDL</th>\n",
       "      <th>WAI</th>\n",
       "      <th>BMI.10</th>\n",
       "      <th>ANX</th>\n",
       "      <th>DEPR</th>\n",
       "      <th>HR</th>\n",
       "      <th>...</th>\n",
       "      <th>region_20</th>\n",
       "      <th>region_53</th>\n",
       "      <th>region_69</th>\n",
       "      <th>region_4</th>\n",
       "      <th>region_5</th>\n",
       "      <th>region_18</th>\n",
       "      <th>SMN_3</th>\n",
       "      <th>SMN_2</th>\n",
       "      <th>EDUC_1</th>\n",
       "      <th>EDUC_0</th>\n",
       "    </tr>\n",
       "  </thead>\n",
       "  <tbody>\n",
       "    <tr>\n",
       "      <th>0</th>\n",
       "      <td>1</td>\n",
       "      <td>0.74713</td>\n",
       "      <td>1.08456</td>\n",
       "      <td>2.48985</td>\n",
       "      <td>-0.47182</td>\n",
       "      <td>0.24487</td>\n",
       "      <td>0.30176</td>\n",
       "      <td>-0.06282</td>\n",
       "      <td>0.50885</td>\n",
       "      <td>-0.25851</td>\n",
       "      <td>...</td>\n",
       "      <td>-0.32835</td>\n",
       "      <td>-0.327</td>\n",
       "      <td>-0.31253</td>\n",
       "      <td>3.25462</td>\n",
       "      <td>-0.30695</td>\n",
       "      <td>-0.25636</td>\n",
       "      <td>-0.53022</td>\n",
       "      <td>-0.43713</td>\n",
       "      <td>-1.03911</td>\n",
       "      <td>-0.21118</td>\n",
       "    </tr>\n",
       "    <tr>\n",
       "      <th>1</th>\n",
       "      <td>1</td>\n",
       "      <td>0.74713</td>\n",
       "      <td>-1.06858</td>\n",
       "      <td>3.30617</td>\n",
       "      <td>1.27597</td>\n",
       "      <td>0.80793</td>\n",
       "      <td>1.75990</td>\n",
       "      <td>1.49790</td>\n",
       "      <td>0.77975</td>\n",
       "      <td>-0.06365</td>\n",
       "      <td>...</td>\n",
       "      <td>-0.32835</td>\n",
       "      <td>-0.327</td>\n",
       "      <td>-0.31253</td>\n",
       "      <td>3.25462</td>\n",
       "      <td>-0.30695</td>\n",
       "      <td>-0.25636</td>\n",
       "      <td>-0.53022</td>\n",
       "      <td>-0.43713</td>\n",
       "      <td>-1.03911</td>\n",
       "      <td>-0.21118</td>\n",
       "    </tr>\n",
       "    <tr>\n",
       "      <th>2</th>\n",
       "      <td>1</td>\n",
       "      <td>0.74713</td>\n",
       "      <td>1.34294</td>\n",
       "      <td>0.09006</td>\n",
       "      <td>-0.04897</td>\n",
       "      <td>1.40410</td>\n",
       "      <td>1.67655</td>\n",
       "      <td>0.45742</td>\n",
       "      <td>0.77975</td>\n",
       "      <td>-0.25851</td>\n",
       "      <td>...</td>\n",
       "      <td>-0.32835</td>\n",
       "      <td>-0.327</td>\n",
       "      <td>-0.31253</td>\n",
       "      <td>3.25462</td>\n",
       "      <td>-0.30695</td>\n",
       "      <td>-0.25636</td>\n",
       "      <td>-0.53022</td>\n",
       "      <td>-0.43713</td>\n",
       "      <td>-1.03911</td>\n",
       "      <td>-0.21118</td>\n",
       "    </tr>\n",
       "    <tr>\n",
       "      <th>3</th>\n",
       "      <td>1</td>\n",
       "      <td>-1.33836</td>\n",
       "      <td>0.13718</td>\n",
       "      <td>1.27028</td>\n",
       "      <td>-0.10535</td>\n",
       "      <td>0.34424</td>\n",
       "      <td>-0.06318</td>\n",
       "      <td>-1.62355</td>\n",
       "      <td>-0.03297</td>\n",
       "      <td>-0.64823</td>\n",
       "      <td>...</td>\n",
       "      <td>-0.32835</td>\n",
       "      <td>-0.327</td>\n",
       "      <td>-0.31253</td>\n",
       "      <td>3.25462</td>\n",
       "      <td>-0.30695</td>\n",
       "      <td>-0.25636</td>\n",
       "      <td>1.88589</td>\n",
       "      <td>-0.43713</td>\n",
       "      <td>0.96229</td>\n",
       "      <td>-0.21118</td>\n",
       "    </tr>\n",
       "    <tr>\n",
       "      <th>4</th>\n",
       "      <td>0</td>\n",
       "      <td>0.74713</td>\n",
       "      <td>-0.46570</td>\n",
       "      <td>-0.62791</td>\n",
       "      <td>1.36054</td>\n",
       "      <td>-0.58315</td>\n",
       "      <td>-0.94113</td>\n",
       "      <td>-0.58306</td>\n",
       "      <td>-1.11660</td>\n",
       "      <td>0.52092</td>\n",
       "      <td>...</td>\n",
       "      <td>-0.32835</td>\n",
       "      <td>-0.327</td>\n",
       "      <td>-0.31253</td>\n",
       "      <td>3.25462</td>\n",
       "      <td>-0.30695</td>\n",
       "      <td>-0.25636</td>\n",
       "      <td>-0.53022</td>\n",
       "      <td>-0.43713</td>\n",
       "      <td>0.96229</td>\n",
       "      <td>-0.21118</td>\n",
       "    </tr>\n",
       "    <tr>\n",
       "      <th>...</th>\n",
       "      <td>...</td>\n",
       "      <td>...</td>\n",
       "      <td>...</td>\n",
       "      <td>...</td>\n",
       "      <td>...</td>\n",
       "      <td>...</td>\n",
       "      <td>...</td>\n",
       "      <td>...</td>\n",
       "      <td>...</td>\n",
       "      <td>...</td>\n",
       "      <td>...</td>\n",
       "      <td>...</td>\n",
       "      <td>...</td>\n",
       "      <td>...</td>\n",
       "      <td>...</td>\n",
       "      <td>...</td>\n",
       "      <td>...</td>\n",
       "      <td>...</td>\n",
       "      <td>...</td>\n",
       "      <td>...</td>\n",
       "      <td>...</td>\n",
       "    </tr>\n",
       "    <tr>\n",
       "      <th>13907</th>\n",
       "      <td>1</td>\n",
       "      <td>0.74713</td>\n",
       "      <td>1.34294</td>\n",
       "      <td>0.97523</td>\n",
       "      <td>-0.04897</td>\n",
       "      <td>0.67544</td>\n",
       "      <td>1.19590</td>\n",
       "      <td>-0.84319</td>\n",
       "      <td>-0.84569</td>\n",
       "      <td>-0.55080</td>\n",
       "      <td>...</td>\n",
       "      <td>-0.32835</td>\n",
       "      <td>-0.327</td>\n",
       "      <td>3.19949</td>\n",
       "      <td>-0.30723</td>\n",
       "      <td>-0.30695</td>\n",
       "      <td>-0.25636</td>\n",
       "      <td>-0.53022</td>\n",
       "      <td>-0.43713</td>\n",
       "      <td>-1.03911</td>\n",
       "      <td>-0.21118</td>\n",
       "    </tr>\n",
       "    <tr>\n",
       "      <th>13908</th>\n",
       "      <td>0</td>\n",
       "      <td>-1.33836</td>\n",
       "      <td>-1.67146</td>\n",
       "      <td>-0.86396</td>\n",
       "      <td>0.14836</td>\n",
       "      <td>-0.78187</td>\n",
       "      <td>-1.17337</td>\n",
       "      <td>-0.84319</td>\n",
       "      <td>-0.84569</td>\n",
       "      <td>-0.25851</td>\n",
       "      <td>...</td>\n",
       "      <td>-0.32835</td>\n",
       "      <td>-0.327</td>\n",
       "      <td>3.19949</td>\n",
       "      <td>-0.30723</td>\n",
       "      <td>-0.30695</td>\n",
       "      <td>-0.25636</td>\n",
       "      <td>-0.53022</td>\n",
       "      <td>-0.43713</td>\n",
       "      <td>-1.03911</td>\n",
       "      <td>-0.21118</td>\n",
       "    </tr>\n",
       "    <tr>\n",
       "      <th>13909</th>\n",
       "      <td>1</td>\n",
       "      <td>0.74713</td>\n",
       "      <td>0.22331</td>\n",
       "      <td>0.87688</td>\n",
       "      <td>-0.13354</td>\n",
       "      <td>-0.64939</td>\n",
       "      <td>-0.85860</td>\n",
       "      <td>-0.58306</td>\n",
       "      <td>0.23794</td>\n",
       "      <td>0.52092</td>\n",
       "      <td>...</td>\n",
       "      <td>-0.32835</td>\n",
       "      <td>-0.327</td>\n",
       "      <td>3.19949</td>\n",
       "      <td>-0.30723</td>\n",
       "      <td>-0.30695</td>\n",
       "      <td>-0.25636</td>\n",
       "      <td>-0.53022</td>\n",
       "      <td>2.28749</td>\n",
       "      <td>-1.03911</td>\n",
       "      <td>-0.21118</td>\n",
       "    </tr>\n",
       "    <tr>\n",
       "      <th>13910</th>\n",
       "      <td>1</td>\n",
       "      <td>-1.33836</td>\n",
       "      <td>-0.81020</td>\n",
       "      <td>-1.42456</td>\n",
       "      <td>-1.57123</td>\n",
       "      <td>-0.05321</td>\n",
       "      <td>-0.95813</td>\n",
       "      <td>-1.62355</td>\n",
       "      <td>-0.57478</td>\n",
       "      <td>0.03378</td>\n",
       "      <td>...</td>\n",
       "      <td>-0.32835</td>\n",
       "      <td>-0.327</td>\n",
       "      <td>3.19949</td>\n",
       "      <td>-0.30723</td>\n",
       "      <td>-0.30695</td>\n",
       "      <td>-0.25636</td>\n",
       "      <td>1.88589</td>\n",
       "      <td>-0.43713</td>\n",
       "      <td>-1.03911</td>\n",
       "      <td>-0.21118</td>\n",
       "    </tr>\n",
       "    <tr>\n",
       "      <th>13911</th>\n",
       "      <td>1</td>\n",
       "      <td>-1.33836</td>\n",
       "      <td>0.13718</td>\n",
       "      <td>1.34897</td>\n",
       "      <td>0.14836</td>\n",
       "      <td>2.53021</td>\n",
       "      <td>1.84243</td>\n",
       "      <td>-1.62355</td>\n",
       "      <td>-0.84569</td>\n",
       "      <td>-1.33023</td>\n",
       "      <td>...</td>\n",
       "      <td>-0.32835</td>\n",
       "      <td>-0.327</td>\n",
       "      <td>3.19949</td>\n",
       "      <td>-0.30723</td>\n",
       "      <td>-0.30695</td>\n",
       "      <td>-0.25636</td>\n",
       "      <td>-0.53022</td>\n",
       "      <td>-0.43713</td>\n",
       "      <td>-1.03911</td>\n",
       "      <td>-0.21118</td>\n",
       "    </tr>\n",
       "  </tbody>\n",
       "</table>\n",
       "<p>13912 rows × 31 columns</p>\n",
       "</div>"
      ],
      "text/plain": [
       "       AH      SEX      AGE      LDL      HDL      WAI   BMI.10      ANX  \\\n",
       "0       1  0.74713  1.08456  2.48985 -0.47182  0.24487  0.30176 -0.06282   \n",
       "1       1  0.74713 -1.06858  3.30617  1.27597  0.80793  1.75990  1.49790   \n",
       "2       1  0.74713  1.34294  0.09006 -0.04897  1.40410  1.67655  0.45742   \n",
       "3       1 -1.33836  0.13718  1.27028 -0.10535  0.34424 -0.06318 -1.62355   \n",
       "4       0  0.74713 -0.46570 -0.62791  1.36054 -0.58315 -0.94113 -0.58306   \n",
       "...    ..      ...      ...      ...      ...      ...      ...      ...   \n",
       "13907   1  0.74713  1.34294  0.97523 -0.04897  0.67544  1.19590 -0.84319   \n",
       "13908   0 -1.33836 -1.67146 -0.86396  0.14836 -0.78187 -1.17337 -0.84319   \n",
       "13909   1  0.74713  0.22331  0.87688 -0.13354 -0.64939 -0.85860 -0.58306   \n",
       "13910   1 -1.33836 -0.81020 -1.42456 -1.57123 -0.05321 -0.95813 -1.62355   \n",
       "13911   1 -1.33836  0.13718  1.34897  0.14836  2.53021  1.84243 -1.62355   \n",
       "\n",
       "          DEPR       HR  ...  region_20  region_53  region_69  region_4  \\\n",
       "0      0.50885 -0.25851  ...   -0.32835     -0.327   -0.31253   3.25462   \n",
       "1      0.77975 -0.06365  ...   -0.32835     -0.327   -0.31253   3.25462   \n",
       "2      0.77975 -0.25851  ...   -0.32835     -0.327   -0.31253   3.25462   \n",
       "3     -0.03297 -0.64823  ...   -0.32835     -0.327   -0.31253   3.25462   \n",
       "4     -1.11660  0.52092  ...   -0.32835     -0.327   -0.31253   3.25462   \n",
       "...        ...      ...  ...        ...        ...        ...       ...   \n",
       "13907 -0.84569 -0.55080  ...   -0.32835     -0.327    3.19949  -0.30723   \n",
       "13908 -0.84569 -0.25851  ...   -0.32835     -0.327    3.19949  -0.30723   \n",
       "13909  0.23794  0.52092  ...   -0.32835     -0.327    3.19949  -0.30723   \n",
       "13910 -0.57478  0.03378  ...   -0.32835     -0.327    3.19949  -0.30723   \n",
       "13911 -0.84569 -1.33023  ...   -0.32835     -0.327    3.19949  -0.30723   \n",
       "\n",
       "       region_5  region_18    SMN_3    SMN_2   EDUC_1   EDUC_0  \n",
       "0      -0.30695   -0.25636 -0.53022 -0.43713 -1.03911 -0.21118  \n",
       "1      -0.30695   -0.25636 -0.53022 -0.43713 -1.03911 -0.21118  \n",
       "2      -0.30695   -0.25636 -0.53022 -0.43713 -1.03911 -0.21118  \n",
       "3      -0.30695   -0.25636  1.88589 -0.43713  0.96229 -0.21118  \n",
       "4      -0.30695   -0.25636 -0.53022 -0.43713  0.96229 -0.21118  \n",
       "...         ...        ...      ...      ...      ...      ...  \n",
       "13907  -0.30695   -0.25636 -0.53022 -0.43713 -1.03911 -0.21118  \n",
       "13908  -0.30695   -0.25636 -0.53022 -0.43713 -1.03911 -0.21118  \n",
       "13909  -0.30695   -0.25636 -0.53022  2.28749 -1.03911 -0.21118  \n",
       "13910  -0.30695   -0.25636  1.88589 -0.43713 -1.03911 -0.21118  \n",
       "13911  -0.30695   -0.25636 -0.53022 -0.43713 -1.03911 -0.21118  \n",
       "\n",
       "[13912 rows x 31 columns]"
      ]
     },
     "execution_count": 956,
     "metadata": {},
     "output_type": "execute_result"
    }
   ],
   "source": [
    "df"
   ]
  },
  {
   "cell_type": "code",
   "execution_count": 689,
   "metadata": {},
   "outputs": [],
   "source": [
    "df = df.drop(df[['region_90', 'region_24', 'region_71', 'region_32', 'region_20','region_53', 'region_69', 'region_4', 'region_5', 'region_18', 'SMN_3','SMN_2', 'EDUC_1', 'EDUC_0']], axis=1)"
   ]
  },
  {
   "cell_type": "code",
   "execution_count": 957,
   "metadata": {},
   "outputs": [],
   "source": [
    "X_data = df.drop(df.columns[[0]], axis=1).to_numpy()"
   ]
  },
  {
   "cell_type": "code",
   "execution_count": 958,
   "metadata": {},
   "outputs": [],
   "source": [
    "y_data = df['AH'].to_numpy()"
   ]
  },
  {
   "cell_type": "code",
   "execution_count": 959,
   "metadata": {},
   "outputs": [],
   "source": [
    "tr_n = 10000\n",
    "X_train = X_data[:tr_n]\n",
    "y_train = y_data[:tr_n]\n",
    "X_test = X_data[tr_n:]\n",
    "y_test = y_data[tr_n:]"
   ]
  },
  {
   "cell_type": "code",
   "execution_count": 960,
   "metadata": {},
   "outputs": [
    {
     "data": {
      "text/plain": [
       "(10000, 30)"
      ]
     },
     "execution_count": 960,
     "metadata": {},
     "output_type": "execute_result"
    }
   ],
   "source": [
    "X_train.shape"
   ]
  },
  {
   "cell_type": "code",
   "execution_count": 937,
   "metadata": {},
   "outputs": [],
   "source": [
    "X = np.empty((20, 5))\n",
    "for i in range(20):\n",
    "    X[i, 0] = i % 2\n",
    "    X[i, 1] = 1.0 / 20 * i\n",
    "    X[i, 2] = i\n",
    "    X[i, 3] = 1.0 / 20 * (20 - i)\n",
    "    X[i, 4] = i % 5"
   ]
  },
  {
   "cell_type": "code",
   "execution_count": 938,
   "metadata": {},
   "outputs": [
    {
     "data": {
      "text/html": [
       "<div>\n",
       "<style scoped>\n",
       "    .dataframe tbody tr th:only-of-type {\n",
       "        vertical-align: middle;\n",
       "    }\n",
       "\n",
       "    .dataframe tbody tr th {\n",
       "        vertical-align: top;\n",
       "    }\n",
       "\n",
       "    .dataframe thead th {\n",
       "        text-align: right;\n",
       "    }\n",
       "</style>\n",
       "<table border=\"1\" class=\"dataframe\">\n",
       "  <thead>\n",
       "    <tr style=\"text-align: right;\">\n",
       "      <th></th>\n",
       "      <th>0</th>\n",
       "      <th>1</th>\n",
       "      <th>2</th>\n",
       "      <th>3</th>\n",
       "      <th>4</th>\n",
       "    </tr>\n",
       "  </thead>\n",
       "  <tbody>\n",
       "    <tr>\n",
       "      <th>0</th>\n",
       "      <td>0.0</td>\n",
       "      <td>0.00</td>\n",
       "      <td>0.0</td>\n",
       "      <td>1.00</td>\n",
       "      <td>0.0</td>\n",
       "    </tr>\n",
       "    <tr>\n",
       "      <th>1</th>\n",
       "      <td>1.0</td>\n",
       "      <td>0.05</td>\n",
       "      <td>1.0</td>\n",
       "      <td>0.95</td>\n",
       "      <td>1.0</td>\n",
       "    </tr>\n",
       "    <tr>\n",
       "      <th>2</th>\n",
       "      <td>0.0</td>\n",
       "      <td>0.10</td>\n",
       "      <td>2.0</td>\n",
       "      <td>0.90</td>\n",
       "      <td>2.0</td>\n",
       "    </tr>\n",
       "    <tr>\n",
       "      <th>3</th>\n",
       "      <td>1.0</td>\n",
       "      <td>0.15</td>\n",
       "      <td>3.0</td>\n",
       "      <td>0.85</td>\n",
       "      <td>3.0</td>\n",
       "    </tr>\n",
       "    <tr>\n",
       "      <th>4</th>\n",
       "      <td>0.0</td>\n",
       "      <td>0.20</td>\n",
       "      <td>4.0</td>\n",
       "      <td>0.80</td>\n",
       "      <td>4.0</td>\n",
       "    </tr>\n",
       "    <tr>\n",
       "      <th>5</th>\n",
       "      <td>1.0</td>\n",
       "      <td>0.25</td>\n",
       "      <td>5.0</td>\n",
       "      <td>0.75</td>\n",
       "      <td>0.0</td>\n",
       "    </tr>\n",
       "    <tr>\n",
       "      <th>6</th>\n",
       "      <td>0.0</td>\n",
       "      <td>0.30</td>\n",
       "      <td>6.0</td>\n",
       "      <td>0.70</td>\n",
       "      <td>1.0</td>\n",
       "    </tr>\n",
       "    <tr>\n",
       "      <th>7</th>\n",
       "      <td>1.0</td>\n",
       "      <td>0.35</td>\n",
       "      <td>7.0</td>\n",
       "      <td>0.65</td>\n",
       "      <td>2.0</td>\n",
       "    </tr>\n",
       "    <tr>\n",
       "      <th>8</th>\n",
       "      <td>0.0</td>\n",
       "      <td>0.40</td>\n",
       "      <td>8.0</td>\n",
       "      <td>0.60</td>\n",
       "      <td>3.0</td>\n",
       "    </tr>\n",
       "    <tr>\n",
       "      <th>9</th>\n",
       "      <td>1.0</td>\n",
       "      <td>0.45</td>\n",
       "      <td>9.0</td>\n",
       "      <td>0.55</td>\n",
       "      <td>4.0</td>\n",
       "    </tr>\n",
       "    <tr>\n",
       "      <th>10</th>\n",
       "      <td>0.0</td>\n",
       "      <td>0.50</td>\n",
       "      <td>10.0</td>\n",
       "      <td>0.50</td>\n",
       "      <td>0.0</td>\n",
       "    </tr>\n",
       "    <tr>\n",
       "      <th>11</th>\n",
       "      <td>1.0</td>\n",
       "      <td>0.55</td>\n",
       "      <td>11.0</td>\n",
       "      <td>0.45</td>\n",
       "      <td>1.0</td>\n",
       "    </tr>\n",
       "    <tr>\n",
       "      <th>12</th>\n",
       "      <td>0.0</td>\n",
       "      <td>0.60</td>\n",
       "      <td>12.0</td>\n",
       "      <td>0.40</td>\n",
       "      <td>2.0</td>\n",
       "    </tr>\n",
       "    <tr>\n",
       "      <th>13</th>\n",
       "      <td>1.0</td>\n",
       "      <td>0.65</td>\n",
       "      <td>13.0</td>\n",
       "      <td>0.35</td>\n",
       "      <td>3.0</td>\n",
       "    </tr>\n",
       "    <tr>\n",
       "      <th>14</th>\n",
       "      <td>0.0</td>\n",
       "      <td>0.70</td>\n",
       "      <td>14.0</td>\n",
       "      <td>0.30</td>\n",
       "      <td>4.0</td>\n",
       "    </tr>\n",
       "    <tr>\n",
       "      <th>15</th>\n",
       "      <td>1.0</td>\n",
       "      <td>0.75</td>\n",
       "      <td>15.0</td>\n",
       "      <td>0.25</td>\n",
       "      <td>0.0</td>\n",
       "    </tr>\n",
       "    <tr>\n",
       "      <th>16</th>\n",
       "      <td>0.0</td>\n",
       "      <td>0.80</td>\n",
       "      <td>16.0</td>\n",
       "      <td>0.20</td>\n",
       "      <td>1.0</td>\n",
       "    </tr>\n",
       "    <tr>\n",
       "      <th>17</th>\n",
       "      <td>1.0</td>\n",
       "      <td>0.85</td>\n",
       "      <td>17.0</td>\n",
       "      <td>0.15</td>\n",
       "      <td>2.0</td>\n",
       "    </tr>\n",
       "    <tr>\n",
       "      <th>18</th>\n",
       "      <td>0.0</td>\n",
       "      <td>0.90</td>\n",
       "      <td>18.0</td>\n",
       "      <td>0.10</td>\n",
       "      <td>3.0</td>\n",
       "    </tr>\n",
       "    <tr>\n",
       "      <th>19</th>\n",
       "      <td>1.0</td>\n",
       "      <td>0.95</td>\n",
       "      <td>19.0</td>\n",
       "      <td>0.05</td>\n",
       "      <td>4.0</td>\n",
       "    </tr>\n",
       "  </tbody>\n",
       "</table>\n",
       "</div>"
      ],
      "text/plain": [
       "      0     1     2     3    4\n",
       "0   0.0  0.00   0.0  1.00  0.0\n",
       "1   1.0  0.05   1.0  0.95  1.0\n",
       "2   0.0  0.10   2.0  0.90  2.0\n",
       "3   1.0  0.15   3.0  0.85  3.0\n",
       "4   0.0  0.20   4.0  0.80  4.0\n",
       "5   1.0  0.25   5.0  0.75  0.0\n",
       "6   0.0  0.30   6.0  0.70  1.0\n",
       "7   1.0  0.35   7.0  0.65  2.0\n",
       "8   0.0  0.40   8.0  0.60  3.0\n",
       "9   1.0  0.45   9.0  0.55  4.0\n",
       "10  0.0  0.50  10.0  0.50  0.0\n",
       "11  1.0  0.55  11.0  0.45  1.0\n",
       "12  0.0  0.60  12.0  0.40  2.0\n",
       "13  1.0  0.65  13.0  0.35  3.0\n",
       "14  0.0  0.70  14.0  0.30  4.0\n",
       "15  1.0  0.75  15.0  0.25  0.0\n",
       "16  0.0  0.80  16.0  0.20  1.0\n",
       "17  1.0  0.85  17.0  0.15  2.0\n",
       "18  0.0  0.90  18.0  0.10  3.0\n",
       "19  1.0  0.95  19.0  0.05  4.0"
      ]
     },
     "execution_count": 938,
     "metadata": {},
     "output_type": "execute_result"
    }
   ],
   "source": [
    "pd.DataFrame(X)"
   ]
  },
  {
   "cell_type": "markdown",
   "metadata": {},
   "source": [
    "$$\\int_{sh\\ 1}^{sh\\ 2}\\frac{dx}{\\sqrt{1+x^2}}$$"
   ]
  },
  {
   "cell_type": "code",
   "execution_count": null,
   "metadata": {},
   "outputs": [],
   "source": []
  }
 ],
 "metadata": {
  "kernelspec": {
   "display_name": "Python 3",
   "language": "python",
   "name": "python3"
  },
  "language_info": {
   "codemirror_mode": {
    "name": "ipython",
    "version": 3
   },
   "file_extension": ".py",
   "mimetype": "text/x-python",
   "name": "python",
   "nbconvert_exporter": "python",
   "pygments_lexer": "ipython3",
   "version": "3.6.12"
  }
 },
 "nbformat": 4,
 "nbformat_minor": 4
}
