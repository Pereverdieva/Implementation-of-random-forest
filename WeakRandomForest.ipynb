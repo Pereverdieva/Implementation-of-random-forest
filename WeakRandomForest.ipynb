{
 "cells": [
  {
   "cell_type": "code",
   "execution_count": 130,
   "metadata": {},
   "outputs": [],
   "source": [
    "import numpy as np\n",
    "import pandas as pd\n",
    "import math\n",
    "import matplotlib.pyplot as plt\n",
    "%matplotlib inline\n",
    "from tqdm import tqdm\n",
    "from tqdm.notebook import trange\n",
    "import itertools as it\n",
    "from sklearn.metrics import roc_auc_score"
   ]
  },
  {
   "cell_type": "code",
   "execution_count": 7,
   "metadata": {},
   "outputs": [],
   "source": [
    "from forest import *"
   ]
  },
  {
   "cell_type": "code",
   "execution_count": 119,
   "metadata": {},
   "outputs": [],
   "source": [
    "class WeakRandomForest:\n",
    "    def __init__(self, trees=1000, max_depth=7, alpha=1.0, beta=None, bootstrap=True, decision='avg'):\n",
    "        self.trees = trees\n",
    "        self.max_depth = max_depth\n",
    "        self.alpha = alpha\n",
    "        self.beta = beta\n",
    "        self.bootstrap = bootstrap\n",
    "        self.decision = decision\n",
    "        self._tree_array = []\n",
    "        \n",
    "    def fit(self, X, y):\n",
    "        for _ in trange(self.trees):\n",
    "            tree = WeakTree(X, y, alpha=self.alpha, beta=self.beta, bootstrap=self.bootstrap, \n",
    "                                decision=self.decision, max_depth=self.max_depth)\n",
    "            self._tree_array.append(tree)\n",
    "    \n",
    "    def predict(self, x):\n",
    "        out = np.empty((self.trees))\n",
    "        for i in range(self.trees):\n",
    "            out[i] = self._tree_array[i].predict(x)\n",
    "        return sum(out) / len(out)"
   ]
  },
  {
   "cell_type": "code",
   "execution_count": 120,
   "metadata": {},
   "outputs": [],
   "source": [
    "class WeakTree:\n",
    "    def __init__(self, X, y=None, alpha=1.0, beta=None, bootstrap=True, decision='avg', max_depth=20):\n",
    "        if len(X.shape) != 2:\n",
    "            raise AttributeError(\"X must have shape equal to 2\")\n",
    "        n_samples = X.shape[0]\n",
    "        n_features = X.shape[1]\n",
    "        if beta is None:\n",
    "            beta = 1.0 / np.sqrt(n_features)\n",
    "        cf = self._choose_features(n_features, int(n_features * beta))\n",
    "        cs = self._choose_samples(n_samples, int(n_samples * alpha), bootstrap=bootstrap)\n",
    "        X_choice = X[cs, :][:, cf]\n",
    "        y_choice = None\n",
    "        if not y is None:\n",
    "            y_choice = y[cs]\n",
    "        self.root = WeakTreeNode(max_depth=max_depth, decision=decision)\n",
    "        self.root.fit(X_choice, y_choice)\n",
    "    \n",
    "    def _choose_features(self, n_features, target_n_features):\n",
    "        choice = np.random.choice(np.arange(n_features), size=target_n_features, replace=False)\n",
    "        return choice\n",
    "    \n",
    "    def _choose_samples(self, n_samples, target_n_samples=None, bootstrap=True):\n",
    "        if target_n_samples is None:\n",
    "            target_n_samples = n_samples\n",
    "        if bootstrap == True:\n",
    "            if target_n_samples != n_samples:\n",
    "                raise AttributeError(\"Target samples number should be equal to the dataset size when bootstrap==True\")\n",
    "        choice = np.random.choice(np.arange(n_samples), size=target_n_samples, replace=bootstrap)\n",
    "        return choice\n",
    "    \n",
    "    def predict(self, x):\n",
    "        return self.root.predict(x)\n"
   ]
  },
  {
   "cell_type": "code",
   "execution_count": 138,
   "metadata": {},
   "outputs": [],
   "source": [
    "class WeakTreeNode:\n",
    "    def __init__(self, depth=0, max_depth=20, decision='avg'):\n",
    "        \"\"\"\n",
    "        decision in ('avg', 'grid')\n",
    "        \"\"\"\n",
    "        self.left = None\n",
    "        self.right = None\n",
    "        self.feature = None\n",
    "        self.cut = None\n",
    "        self.depth = depth\n",
    "        self.max_depth = max_depth\n",
    "        self.decision = decision\n",
    "        self.prediction = None\n",
    "            \n",
    "    def fit(self, X, y):\n",
    "#         print('.', end='')\n",
    "        if self.depth < self.max_depth and X.shape[0] > 1 and np.unique(y).shape[0] > 1:\n",
    "            grid = self._init_grid(X, y)\n",
    "            min_loss = math.inf\n",
    "            min_args = None\n",
    "            \n",
    "#             for f_set, c_set in tqdm(grid.items()):\n",
    "            for f_set, c_set in grid.items():\n",
    "                cuts1 = c_set[0]\n",
    "                cuts2 = c_set[1]\n",
    "                cuts3 = c_set[2]\n",
    "                for c1 in cuts1:\n",
    "                    for c2 in cuts2:\n",
    "                        for c3 in cuts3:\n",
    "                            loss_val = self.loss(X, y, *f_set, c1, c2, c3)\n",
    "                            if loss_val < min_loss:\n",
    "                                min_loss = loss_val\n",
    "                                min_args = (f_set, (c1, c2, c3))\n",
    "            \n",
    "            if min_loss < math.inf:\n",
    "                self.feature = min_args[0][0]\n",
    "                self.cut = min_args[1][0]\n",
    "                self.left = WeakTreeNode(depth=self.depth + 1, max_depth=self.max_depth, decision=self.decision)\n",
    "                self.right = WeakTreeNode(depth=self.depth + 1, max_depth=self.max_depth, decision=self.decision)\n",
    "                self.left.feature = min_args[0][1]\n",
    "                self.left.cut = min_args[1][1]\n",
    "                self.right.feature = min_args[0][2]\n",
    "                self.right.cut = min_args[1][2]\n",
    "                self.create_children(X, y)\n",
    "            else:\n",
    "                c = y[y == 1.0].sum()\n",
    "                self.prediction = c / y.shape[0]\n",
    "        else:\n",
    "            c = y[y == 1.0].sum()\n",
    "            self.prediction = c / y.shape[0]\n",
    "        \n",
    "    def _init_grid(self, X, y):\n",
    "        UNIQUE = 10\n",
    "        n_features = X.shape[1]\n",
    "        grid = {}\n",
    "        f_sets = it.permutations(np.arange(n_features), 3)\n",
    "        features = {}\n",
    "        for f_num in range(n_features):\n",
    "            feature = X[:, f_num]\n",
    "            if self.decision == 'grid':\n",
    "                f_min = feature.min()\n",
    "                f_max = feature.max()\n",
    "                f_unique = np.unique(feature)\n",
    "                if len(f_unique) <= UNIQUE:\n",
    "                    vals = [(f_unique[i] + f_unique[i+1]) / 2.0 for i in range(len(f_unique) - 1)]\n",
    "                    features[f_num] = vals\n",
    "                else:\n",
    "                    features[f_num] = np.arange(f_min, f_max, (f_max - f_min) / UNIQUE)[1:]\n",
    "            elif self.decision == 'avg':\n",
    "                features[f_num] = [(feature.max() - feature.min()) / 2.0]\n",
    "        for f_set in f_sets:\n",
    "            grid[f_set] = (features[f_set[0]], features[f_set[1]], features[f_set[2]])\n",
    "        return grid\n",
    "    \n",
    "    def loss(self, X, y, f1, f2, f3, c1, c2, c3):\n",
    "        \n",
    "        #             X\n",
    "        #           /   \\_\n",
    "        #          /      \\\n",
    "        #       X_l        X_r\n",
    "        #      /   \\      /   \\\n",
    "        #  X_ll   X_lr  X_rl   X_rr\n",
    "        \n",
    "        # First node division\n",
    "        m1 = X[:, f1] < c1\n",
    "        X_l = X[m1, :]  # Left X subset\n",
    "        X_r = X[~m1, :] # Right X subset\n",
    "        y_l = y[m1]     # Left y subset\n",
    "        y_r = y[~m1]    # Right y subset\n",
    "        \n",
    "        # Left sub-node division\n",
    "        m2 = X_l[:, f2] < c2\n",
    "        y_ll = y_l[m2]     # Left-left y subset\n",
    "        y_lr = y_l[~m2]    # Left-right y subset\n",
    "        \n",
    "        # Right sub-node division\n",
    "        m3 = X_r[:, f3] < c3\n",
    "        y_rl = y_r[m3]     # Right-left y subset\n",
    "        y_rr = y_r[~m3]    # Right-right y subset\n",
    "        \n",
    "        # Count amount of elements in nodes\n",
    "        l_size = m1.sum()\n",
    "        r_size = (~m1).sum()\n",
    "        ll_size = m2.sum()\n",
    "        lr_size = (~m2).sum()\n",
    "        rl_size = m3.sum()\n",
    "        rr_size = (~m3).sum()\n",
    "        \n",
    "        if l_size == 0 or r_size == 0 or ll_size == 0 or lr_size == 0 or rl_size == 0 or rr_size == 0:\n",
    "            return math.inf\n",
    "        \n",
    "        # Amounts of classes in sub-nodes after division\n",
    "        _, y_llc = np.unique(y_ll, return_counts=True)\n",
    "        _, y_lrc = np.unique(y_lr, return_counts=True)\n",
    "        _, y_rlc = np.unique(y_rl, return_counts=True)\n",
    "        _, y_rrc = np.unique(y_rr, return_counts=True)\n",
    "        \n",
    "        # Compute entropy values\n",
    "        e_ll = entropy(y_llc, ll_size)\n",
    "        e_lr = entropy(y_lrc, lr_size)\n",
    "        e_rl = entropy(y_rlc, rl_size)\n",
    "        e_rr = entropy(y_rrc, rr_size)\n",
    "        \n",
    "        return (ll_size / l_size * e_ll) + (lr_size / l_size * e_lr) + (rl_size / r_size * e_rl) + (rr_size / r_size * e_rr)\n",
    "    \n",
    "    def create_children(self, X, y):        \n",
    "        f = self.feature\n",
    "        c = self.cut\n",
    "        fl = self.left.feature\n",
    "        cl = self.left.cut\n",
    "        fr = self.right.feature\n",
    "        cr = self.right.cut\n",
    "        \n",
    "        # First node division\n",
    "        m1 = X[:, f] < c\n",
    "        X_l = X[m1, :]  # Left X subset\n",
    "        X_r = X[~m1, :] # Right X subset\n",
    "        y_l = y[m1]     # Left y subset\n",
    "        y_r = y[~m1]    # Right y subset\n",
    "        \n",
    "        # Left sub-node division\n",
    "        m2 = X_l[:, fl] < cl\n",
    "        X_ll = X_l[m2, :]\n",
    "        X_lr = X_l[~m2, :]\n",
    "        y_ll = y_l[m2]\n",
    "        y_lr = y_l[~m2]\n",
    "        \n",
    "        # Right sub-node division\n",
    "        m3 = X_r[:, fr] < cr\n",
    "        X_rl = X_r[m3, :]\n",
    "        X_rr = X_r[~m3, :]\n",
    "        y_rl = y_r[m3]\n",
    "        y_rr = y_r[~m3]\n",
    "        \n",
    "        self.left.left = WeakTreeNode(self.depth + 2, decision=self.decision, max_depth=self.max_depth)\n",
    "        self.left.right = WeakTreeNode(self.depth + 2, decision=self.decision, max_depth=self.max_depth)\n",
    "        self.right.left = WeakTreeNode(self.depth + 2, decision=self.decision, max_depth=self.max_depth)\n",
    "        self.right.right = WeakTreeNode(self.depth + 2, decision=self.decision, max_depth=self.max_depth)\n",
    "        self.left.left.fit(X_ll, y_ll)\n",
    "        self.left.right.fit(X_lr, y_lr)\n",
    "        self.right.left.fit(X_rl, y_rl)\n",
    "        self.right.right.fit(X_rr, y_rr)\n",
    "    \n",
    "    def predict(self, x):\n",
    "        if self.prediction is None:\n",
    "            mask = x[self.feature] < self.cut\n",
    "            if mask:\n",
    "                pred = self.left.predict(x)\n",
    "            else:\n",
    "                pred = self.right.predict(x)\n",
    "        else:\n",
    "            pred = self.prediction\n",
    "        return pred\n",
    "    \n",
    "def visualize_grid(grid):\n",
    "    for k, v in grid.items():\n",
    "        print(k)\n",
    "        for i in range(3):\n",
    "            print('   ', k[i], '=>', v[i])\n",
    "            \n",
    "def entropy(bucket, total_size):\n",
    "    probs = bucket / total_size\n",
    "    return 1.0 - probs.dot(probs)\n",
    "    "
   ]
  },
  {
   "cell_type": "code",
   "execution_count": 142,
   "metadata": {},
   "outputs": [],
   "source": [
    "df = pd.read_csv('df_21jan.csv', delimiter=';', decimal=',')"
   ]
  },
  {
   "cell_type": "code",
   "execution_count": 190,
   "metadata": {},
   "outputs": [],
   "source": [
    "# df = df.drop(df[['region_90', 'region_24', 'region_71', 'region_32', 'region_20','region_53', 'region_69', 'region_4', 'region_5', 'region_18', 'SMN_3','SMN_2', 'EDUC_1', 'EDUC_0']], axis=1)\n",
    "tr_mask = np.zeros(df.shape[0], dtype=bool)\n",
    "tr_mask[:tr_n] = True\n",
    "np.random.shuffle(tr_mask)\n",
    "\n",
    "X_data = df.drop(df.columns[[0]], axis=1).to_numpy()\n",
    "y_data = df['AH'].to_numpy()\n",
    "tr_n = 10000\n",
    "\n",
    "X_train = X_data[tr_mask]\n",
    "y_train = y_data[tr_mask]\n",
    "X_test = X_data[~tr_mask]\n",
    "y_test = y_data[~tr_mask]\n",
    "\n",
    "# X_train = X_data[:tr_n]\n",
    "# y_train = y_data[:tr_n]\n",
    "# X_test = X_data[tr_n:]\n",
    "# y_test = y_data[tr_n:]"
   ]
  },
  {
   "cell_type": "code",
   "execution_count": 144,
   "metadata": {},
   "outputs": [
    {
     "data": {
      "application/vnd.jupyter.widget-view+json": {
       "model_id": "6a2c68c6183440f88e55db8ca24b375c",
       "version_major": 2,
       "version_minor": 0
      },
      "text/plain": [
       "  0%|          | 0/100 [00:00<?, ?it/s]"
      ]
     },
     "metadata": {},
     "output_type": "display_data"
    }
   ],
   "source": [
    "f = WeakRandomForest(decision='grid', trees=100, max_depth = 1000)\n",
    "f.fit(X_train, y_train)"
   ]
  },
  {
   "cell_type": "code",
   "execution_count": 146,
   "metadata": {},
   "outputs": [
    {
     "data": {
      "application/vnd.jupyter.widget-view+json": {
       "model_id": "f3a49477f52747d0bd41470a71055fa0",
       "version_major": 2,
       "version_minor": 0
      },
      "text/plain": [
       "  0%|          | 0/10000 [00:00<?, ?it/s]"
      ]
     },
     "metadata": {},
     "output_type": "display_data"
    },
    {
     "data": {
      "application/vnd.jupyter.widget-view+json": {
       "model_id": "d9398a3fbdd447e38dd9e711373fe581",
       "version_major": 2,
       "version_minor": 0
      },
      "text/plain": [
       "  0%|          | 0/3912 [00:00<?, ?it/s]"
      ]
     },
     "metadata": {},
     "output_type": "display_data"
    },
    {
     "name": "stdout",
     "output_type": "stream",
     "text": [
      "0.6686282771869934\n",
      "0.6649113240486189\n"
     ]
    }
   ],
   "source": [
    "out_train = np.empty(y_train.shape)\n",
    "for i in trange(X_train.shape[0]):\n",
    "    out_train[i] = f.predict(X_train[i])\n",
    "    \n",
    "out_test = np.empty(y_test.shape)\n",
    "for i in trange(X_test.shape[0]):\n",
    "    out_test[i] = f.predict(X_test[i])\n",
    "    \n",
    "roc_value = roc_auc_score(y_test, out_test)\n",
    "print(roc_value)\n",
    "roc_value = roc_auc_score(y_train, out_train)\n",
    "print(roc_value)"
   ]
  },
  {
   "cell_type": "code",
   "execution_count": 145,
   "metadata": {},
   "outputs": [],
   "source": [
    "# 0.6411931067482735\n",
    "# 0.6509489631079604"
   ]
  },
  {
   "cell_type": "code",
   "execution_count": 191,
   "metadata": {},
   "outputs": [
    {
     "data": {
      "application/vnd.jupyter.widget-view+json": {
       "model_id": "396bf77f0e8e4363999a7528eb023374",
       "version_major": 2,
       "version_minor": 0
      },
      "text/plain": [
       "  0%|          | 0/100 [00:00<?, ?it/s]"
      ]
     },
     "metadata": {},
     "output_type": "display_data"
    },
    {
     "data": {
      "application/vnd.jupyter.widget-view+json": {
       "model_id": "65176714c7e74e54adf747c545774e9d",
       "version_major": 2,
       "version_minor": 0
      },
      "text/plain": [
       "  0%|          | 0/10000 [00:00<?, ?it/s]"
      ]
     },
     "metadata": {},
     "output_type": "display_data"
    },
    {
     "data": {
      "application/vnd.jupyter.widget-view+json": {
       "model_id": "f3de5c6d850c4c3c90e4a1e7782faeb6",
       "version_major": 2,
       "version_minor": 0
      },
      "text/plain": [
       "  0%|          | 0/3912 [00:00<?, ?it/s]"
      ]
     },
     "metadata": {},
     "output_type": "display_data"
    },
    {
     "name": "stdout",
     "output_type": "stream",
     "text": [
      "0.7121151002626824\n",
      "0.7121705863502261\n"
     ]
    },
    {
     "data": {
      "application/vnd.jupyter.widget-view+json": {
       "model_id": "cf66c3eb44514758ade5dac78256f948",
       "version_major": 2,
       "version_minor": 0
      },
      "text/plain": [
       "  0%|          | 0/100 [00:00<?, ?it/s]"
      ]
     },
     "metadata": {},
     "output_type": "display_data"
    },
    {
     "data": {
      "application/vnd.jupyter.widget-view+json": {
       "model_id": "3c4a6fc091734245b0bca1c7f2fb6622",
       "version_major": 2,
       "version_minor": 0
      },
      "text/plain": [
       "  0%|          | 0/10000 [00:00<?, ?it/s]"
      ]
     },
     "metadata": {},
     "output_type": "display_data"
    },
    {
     "data": {
      "application/vnd.jupyter.widget-view+json": {
       "model_id": "a852c88af69444299d5207cecd79232d",
       "version_major": 2,
       "version_minor": 0
      },
      "text/plain": [
       "  0%|          | 0/3912 [00:00<?, ?it/s]"
      ]
     },
     "metadata": {},
     "output_type": "display_data"
    },
    {
     "name": "stdout",
     "output_type": "stream",
     "text": [
      "0.727785893013427\n",
      "0.7235451470945236\n"
     ]
    },
    {
     "data": {
      "application/vnd.jupyter.widget-view+json": {
       "model_id": "4aa9dc2bb1d847d5bd69aa91c4fc2906",
       "version_major": 2,
       "version_minor": 0
      },
      "text/plain": [
       "  0%|          | 0/100 [00:00<?, ?it/s]"
      ]
     },
     "metadata": {},
     "output_type": "display_data"
    },
    {
     "data": {
      "application/vnd.jupyter.widget-view+json": {
       "model_id": "a4cc699e6db34339bb6fc7b07ce3cb5e",
       "version_major": 2,
       "version_minor": 0
      },
      "text/plain": [
       "  0%|          | 0/10000 [00:00<?, ?it/s]"
      ]
     },
     "metadata": {},
     "output_type": "display_data"
    },
    {
     "data": {
      "application/vnd.jupyter.widget-view+json": {
       "model_id": "bdd68b441c314d95939a08981ff22268",
       "version_major": 2,
       "version_minor": 0
      },
      "text/plain": [
       "  0%|          | 0/3912 [00:00<?, ?it/s]"
      ]
     },
     "metadata": {},
     "output_type": "display_data"
    },
    {
     "name": "stdout",
     "output_type": "stream",
     "text": [
      "0.6936253846574642\n",
      "0.69044742188635\n"
     ]
    },
    {
     "data": {
      "application/vnd.jupyter.widget-view+json": {
       "model_id": "d42e721408cd45fbae86263b5682dbb0",
       "version_major": 2,
       "version_minor": 0
      },
      "text/plain": [
       "  0%|          | 0/100 [00:00<?, ?it/s]"
      ]
     },
     "metadata": {},
     "output_type": "display_data"
    },
    {
     "data": {
      "application/vnd.jupyter.widget-view+json": {
       "model_id": "9169ea6422ea474fbc8d6d04a52f34e5",
       "version_major": 2,
       "version_minor": 0
      },
      "text/plain": [
       "  0%|          | 0/10000 [00:00<?, ?it/s]"
      ]
     },
     "metadata": {},
     "output_type": "display_data"
    },
    {
     "data": {
      "application/vnd.jupyter.widget-view+json": {
       "model_id": "c9f8d630b94a4514856aa852ca5fcce5",
       "version_major": 2,
       "version_minor": 0
      },
      "text/plain": [
       "  0%|          | 0/3912 [00:00<?, ?it/s]"
      ]
     },
     "metadata": {},
     "output_type": "display_data"
    },
    {
     "name": "stdout",
     "output_type": "stream",
     "text": [
      "0.7067830660945498\n",
      "0.7085237049611302\n"
     ]
    },
    {
     "data": {
      "application/vnd.jupyter.widget-view+json": {
       "model_id": "e7d055d247b0424e869f29f7b85b62b3",
       "version_major": 2,
       "version_minor": 0
      },
      "text/plain": [
       "  0%|          | 0/100 [00:00<?, ?it/s]"
      ]
     },
     "metadata": {},
     "output_type": "display_data"
    },
    {
     "data": {
      "application/vnd.jupyter.widget-view+json": {
       "model_id": "84d289ef731142abb7194b28c21b8a1b",
       "version_major": 2,
       "version_minor": 0
      },
      "text/plain": [
       "  0%|          | 0/10000 [00:00<?, ?it/s]"
      ]
     },
     "metadata": {},
     "output_type": "display_data"
    },
    {
     "data": {
      "application/vnd.jupyter.widget-view+json": {
       "model_id": "bac8572194ba4688815cb4ec8212c052",
       "version_major": 2,
       "version_minor": 0
      },
      "text/plain": [
       "  0%|          | 0/3912 [00:00<?, ?it/s]"
      ]
     },
     "metadata": {},
     "output_type": "display_data"
    },
    {
     "name": "stdout",
     "output_type": "stream",
     "text": [
      "0.6951198983726024\n",
      "0.7071829113230442\n"
     ]
    },
    {
     "data": {
      "application/vnd.jupyter.widget-view+json": {
       "model_id": "91b87a21a82d4bdd90d292bb8d739413",
       "version_major": 2,
       "version_minor": 0
      },
      "text/plain": [
       "  0%|          | 0/100 [00:00<?, ?it/s]"
      ]
     },
     "metadata": {},
     "output_type": "display_data"
    },
    {
     "data": {
      "application/vnd.jupyter.widget-view+json": {
       "model_id": "0a700b625be94b6aa4dda9088846ef5e",
       "version_major": 2,
       "version_minor": 0
      },
      "text/plain": [
       "  0%|          | 0/10000 [00:00<?, ?it/s]"
      ]
     },
     "metadata": {},
     "output_type": "display_data"
    },
    {
     "data": {
      "application/vnd.jupyter.widget-view+json": {
       "model_id": "ee4d148b2c6d453f972431c4b3a36a19",
       "version_major": 2,
       "version_minor": 0
      },
      "text/plain": [
       "  0%|          | 0/3912 [00:00<?, ?it/s]"
      ]
     },
     "metadata": {},
     "output_type": "display_data"
    },
    {
     "name": "stdout",
     "output_type": "stream",
     "text": [
      "0.710221421215242\n",
      "0.7133123107896056\n"
     ]
    },
    {
     "data": {
      "application/vnd.jupyter.widget-view+json": {
       "model_id": "2756bdad41ae49c6bca2ba27e6d1e409",
       "version_major": 2,
       "version_minor": 0
      },
      "text/plain": [
       "  0%|          | 0/100 [00:00<?, ?it/s]"
      ]
     },
     "metadata": {},
     "output_type": "display_data"
    },
    {
     "data": {
      "application/vnd.jupyter.widget-view+json": {
       "model_id": "d4f5ff8546574f0cba227fa61b248059",
       "version_major": 2,
       "version_minor": 0
      },
      "text/plain": [
       "  0%|          | 0/10000 [00:00<?, ?it/s]"
      ]
     },
     "metadata": {},
     "output_type": "display_data"
    },
    {
     "data": {
      "application/vnd.jupyter.widget-view+json": {
       "model_id": "bcac9042df4c40d4904a2ca6aafcff3e",
       "version_major": 2,
       "version_minor": 0
      },
      "text/plain": [
       "  0%|          | 0/3912 [00:00<?, ?it/s]"
      ]
     },
     "metadata": {},
     "output_type": "display_data"
    },
    {
     "name": "stdout",
     "output_type": "stream",
     "text": [
      "0.7026683778019405\n",
      "0.7144175452439443\n"
     ]
    },
    {
     "data": {
      "application/vnd.jupyter.widget-view+json": {
       "model_id": "7e6e09c455024d229de7ffd8d4ee9fe9",
       "version_major": 2,
       "version_minor": 0
      },
      "text/plain": [
       "  0%|          | 0/100 [00:00<?, ?it/s]"
      ]
     },
     "metadata": {},
     "output_type": "display_data"
    },
    {
     "data": {
      "application/vnd.jupyter.widget-view+json": {
       "model_id": "df11ad3c09ba424097437c33837baf39",
       "version_major": 2,
       "version_minor": 0
      },
      "text/plain": [
       "  0%|          | 0/10000 [00:00<?, ?it/s]"
      ]
     },
     "metadata": {},
     "output_type": "display_data"
    },
    {
     "data": {
      "application/vnd.jupyter.widget-view+json": {
       "model_id": "aac1326e95ab4e77bca2458ecc4486c7",
       "version_major": 2,
       "version_minor": 0
      },
      "text/plain": [
       "  0%|          | 0/3912 [00:00<?, ?it/s]"
      ]
     },
     "metadata": {},
     "output_type": "display_data"
    },
    {
     "name": "stdout",
     "output_type": "stream",
     "text": [
      "0.696972569210612\n",
      "0.6866091614779316\n"
     ]
    },
    {
     "data": {
      "application/vnd.jupyter.widget-view+json": {
       "model_id": "853168511ab74c00b1b135cdcbffcbb5",
       "version_major": 2,
       "version_minor": 0
      },
      "text/plain": [
       "  0%|          | 0/100 [00:00<?, ?it/s]"
      ]
     },
     "metadata": {},
     "output_type": "display_data"
    },
    {
     "data": {
      "application/vnd.jupyter.widget-view+json": {
       "model_id": "944b23431b9e4b4180588f5211465618",
       "version_major": 2,
       "version_minor": 0
      },
      "text/plain": [
       "  0%|          | 0/10000 [00:00<?, ?it/s]"
      ]
     },
     "metadata": {},
     "output_type": "display_data"
    },
    {
     "data": {
      "application/vnd.jupyter.widget-view+json": {
       "model_id": "77b03413c892406590f15b026c1d735b",
       "version_major": 2,
       "version_minor": 0
      },
      "text/plain": [
       "  0%|          | 0/3912 [00:00<?, ?it/s]"
      ]
     },
     "metadata": {},
     "output_type": "display_data"
    },
    {
     "name": "stdout",
     "output_type": "stream",
     "text": [
      "0.7129669045816058\n",
      "0.7123493034305675\n"
     ]
    },
    {
     "data": {
      "application/vnd.jupyter.widget-view+json": {
       "model_id": "e5cf8d8ff07e4636a80e8010ca265807",
       "version_major": 2,
       "version_minor": 0
      },
      "text/plain": [
       "  0%|          | 0/100 [00:00<?, ?it/s]"
      ]
     },
     "metadata": {},
     "output_type": "display_data"
    },
    {
     "data": {
      "application/vnd.jupyter.widget-view+json": {
       "model_id": "84530d0c7ec54aebb4aab16c8c3a2140",
       "version_major": 2,
       "version_minor": 0
      },
      "text/plain": [
       "  0%|          | 0/10000 [00:00<?, ?it/s]"
      ]
     },
     "metadata": {},
     "output_type": "display_data"
    },
    {
     "data": {
      "application/vnd.jupyter.widget-view+json": {
       "model_id": "d4bf83e4e79848a989c293daa70572c4",
       "version_major": 2,
       "version_minor": 0
      },
      "text/plain": [
       "  0%|          | 0/3912 [00:00<?, ?it/s]"
      ]
     },
     "metadata": {},
     "output_type": "display_data"
    },
    {
     "name": "stdout",
     "output_type": "stream",
     "text": [
      "0.6938727222291506\n",
      "0.6843703377583095\n"
     ]
    }
   ],
   "source": [
    "auc = []\n",
    "for i in range(10):\n",
    "    tr_mask = np.zeros(df.shape[0], dtype=bool)\n",
    "    tr_mask[:tr_n] = True\n",
    "    np.random.shuffle(tr_mask)\n",
    "\n",
    "    X_data = df.drop(df.columns[[0]], axis=1).to_numpy()\n",
    "    y_data = df['AH'].to_numpy()\n",
    "    tr_n = 10000\n",
    "\n",
    "    X_train = X_data[tr_mask]\n",
    "    y_train = y_data[tr_mask]\n",
    "    X_test = X_data[~tr_mask]\n",
    "    y_test = y_data[~tr_mask]\n",
    "    f = WeakRandomForest(decision='grid', trees=100, max_depth = 1000)\n",
    "    f.fit(X_train, y_train)\n",
    "    \n",
    "    out_train = np.empty(y_train.shape)\n",
    "    for i in trange(X_train.shape[0]):\n",
    "        out_train[i] = f.predict(X_train[i])\n",
    "\n",
    "    out_test = np.empty(y_test.shape)\n",
    "    for i in trange(X_test.shape[0]):\n",
    "        out_test[i] = f.predict(X_test[i])\n",
    "\n",
    "    roc_value_test = roc_auc_score(y_test, out_test)\n",
    "    print(roc_value_test)\n",
    "    roc_value_train = roc_auc_score(y_train, out_train)\n",
    "    print(roc_value_train)\n",
    "    auc.append((roc_value_test, roc_value_train))"
   ]
  },
  {
   "cell_type": "code",
   "execution_count": 193,
   "metadata": {},
   "outputs": [
    {
     "name": "stdout",
     "output_type": "stream",
     "text": [
      "[(0.7121151002626824, 0.7121705863502261), (0.727785893013427, 0.7235451470945236), (0.6936253846574642, 0.69044742188635), (0.7067830660945498, 0.7085237049611302), (0.6951198983726024, 0.7071829113230442), (0.710221421215242, 0.7133123107896056), (0.7026683778019405, 0.7144175452439443), (0.696972569210612, 0.6866091614779316), (0.7129669045816058, 0.7123493034305675), (0.6938727222291506, 0.6843703377583095)]\n"
     ]
    }
   ],
   "source": [
    "print(auc)"
   ]
  },
  {
   "cell_type": "code",
   "execution_count": 192,
   "metadata": {},
   "outputs": [
    {
     "name": "stdout",
     "output_type": "stream",
     "text": [
      "0.7052131337439277\n",
      "0.7052928430315633\n"
     ]
    }
   ],
   "source": [
    "print(sum([x[0] for x in auc]) / len(auc))\n",
    "print(sum([x[1] for x in auc]) / len(auc))"
   ]
  },
  {
   "cell_type": "code",
   "execution_count": 149,
   "metadata": {},
   "outputs": [],
   "source": [
    "X = np.empty((20, 5))\n",
    "for i in range(20):\n",
    "    X[i, 0] = i % 2\n",
    "    X[i, 1] = 1.0 / 20 * i\n",
    "    X[i, 2] = i\n",
    "    X[i, 3] = 1.0 / 20 * (20 - i)\n",
    "    X[i, 4] = i % 5"
   ]
  },
  {
   "cell_type": "code",
   "execution_count": 150,
   "metadata": {},
   "outputs": [
    {
     "data": {
      "text/html": [
       "<div>\n",
       "<style scoped>\n",
       "    .dataframe tbody tr th:only-of-type {\n",
       "        vertical-align: middle;\n",
       "    }\n",
       "\n",
       "    .dataframe tbody tr th {\n",
       "        vertical-align: top;\n",
       "    }\n",
       "\n",
       "    .dataframe thead th {\n",
       "        text-align: right;\n",
       "    }\n",
       "</style>\n",
       "<table border=\"1\" class=\"dataframe\">\n",
       "  <thead>\n",
       "    <tr style=\"text-align: right;\">\n",
       "      <th></th>\n",
       "      <th>0</th>\n",
       "      <th>1</th>\n",
       "      <th>2</th>\n",
       "      <th>3</th>\n",
       "      <th>4</th>\n",
       "    </tr>\n",
       "  </thead>\n",
       "  <tbody>\n",
       "    <tr>\n",
       "      <th>0</th>\n",
       "      <td>0.0</td>\n",
       "      <td>0.00</td>\n",
       "      <td>0.0</td>\n",
       "      <td>1.00</td>\n",
       "      <td>0.0</td>\n",
       "    </tr>\n",
       "    <tr>\n",
       "      <th>1</th>\n",
       "      <td>1.0</td>\n",
       "      <td>0.05</td>\n",
       "      <td>1.0</td>\n",
       "      <td>0.95</td>\n",
       "      <td>1.0</td>\n",
       "    </tr>\n",
       "    <tr>\n",
       "      <th>2</th>\n",
       "      <td>0.0</td>\n",
       "      <td>0.10</td>\n",
       "      <td>2.0</td>\n",
       "      <td>0.90</td>\n",
       "      <td>2.0</td>\n",
       "    </tr>\n",
       "    <tr>\n",
       "      <th>3</th>\n",
       "      <td>1.0</td>\n",
       "      <td>0.15</td>\n",
       "      <td>3.0</td>\n",
       "      <td>0.85</td>\n",
       "      <td>3.0</td>\n",
       "    </tr>\n",
       "    <tr>\n",
       "      <th>4</th>\n",
       "      <td>0.0</td>\n",
       "      <td>0.20</td>\n",
       "      <td>4.0</td>\n",
       "      <td>0.80</td>\n",
       "      <td>4.0</td>\n",
       "    </tr>\n",
       "    <tr>\n",
       "      <th>5</th>\n",
       "      <td>1.0</td>\n",
       "      <td>0.25</td>\n",
       "      <td>5.0</td>\n",
       "      <td>0.75</td>\n",
       "      <td>0.0</td>\n",
       "    </tr>\n",
       "    <tr>\n",
       "      <th>6</th>\n",
       "      <td>0.0</td>\n",
       "      <td>0.30</td>\n",
       "      <td>6.0</td>\n",
       "      <td>0.70</td>\n",
       "      <td>1.0</td>\n",
       "    </tr>\n",
       "    <tr>\n",
       "      <th>7</th>\n",
       "      <td>1.0</td>\n",
       "      <td>0.35</td>\n",
       "      <td>7.0</td>\n",
       "      <td>0.65</td>\n",
       "      <td>2.0</td>\n",
       "    </tr>\n",
       "    <tr>\n",
       "      <th>8</th>\n",
       "      <td>0.0</td>\n",
       "      <td>0.40</td>\n",
       "      <td>8.0</td>\n",
       "      <td>0.60</td>\n",
       "      <td>3.0</td>\n",
       "    </tr>\n",
       "    <tr>\n",
       "      <th>9</th>\n",
       "      <td>1.0</td>\n",
       "      <td>0.45</td>\n",
       "      <td>9.0</td>\n",
       "      <td>0.55</td>\n",
       "      <td>4.0</td>\n",
       "    </tr>\n",
       "    <tr>\n",
       "      <th>10</th>\n",
       "      <td>0.0</td>\n",
       "      <td>0.50</td>\n",
       "      <td>10.0</td>\n",
       "      <td>0.50</td>\n",
       "      <td>0.0</td>\n",
       "    </tr>\n",
       "    <tr>\n",
       "      <th>11</th>\n",
       "      <td>1.0</td>\n",
       "      <td>0.55</td>\n",
       "      <td>11.0</td>\n",
       "      <td>0.45</td>\n",
       "      <td>1.0</td>\n",
       "    </tr>\n",
       "    <tr>\n",
       "      <th>12</th>\n",
       "      <td>0.0</td>\n",
       "      <td>0.60</td>\n",
       "      <td>12.0</td>\n",
       "      <td>0.40</td>\n",
       "      <td>2.0</td>\n",
       "    </tr>\n",
       "    <tr>\n",
       "      <th>13</th>\n",
       "      <td>1.0</td>\n",
       "      <td>0.65</td>\n",
       "      <td>13.0</td>\n",
       "      <td>0.35</td>\n",
       "      <td>3.0</td>\n",
       "    </tr>\n",
       "    <tr>\n",
       "      <th>14</th>\n",
       "      <td>0.0</td>\n",
       "      <td>0.70</td>\n",
       "      <td>14.0</td>\n",
       "      <td>0.30</td>\n",
       "      <td>4.0</td>\n",
       "    </tr>\n",
       "    <tr>\n",
       "      <th>15</th>\n",
       "      <td>1.0</td>\n",
       "      <td>0.75</td>\n",
       "      <td>15.0</td>\n",
       "      <td>0.25</td>\n",
       "      <td>0.0</td>\n",
       "    </tr>\n",
       "    <tr>\n",
       "      <th>16</th>\n",
       "      <td>0.0</td>\n",
       "      <td>0.80</td>\n",
       "      <td>16.0</td>\n",
       "      <td>0.20</td>\n",
       "      <td>1.0</td>\n",
       "    </tr>\n",
       "    <tr>\n",
       "      <th>17</th>\n",
       "      <td>1.0</td>\n",
       "      <td>0.85</td>\n",
       "      <td>17.0</td>\n",
       "      <td>0.15</td>\n",
       "      <td>2.0</td>\n",
       "    </tr>\n",
       "    <tr>\n",
       "      <th>18</th>\n",
       "      <td>0.0</td>\n",
       "      <td>0.90</td>\n",
       "      <td>18.0</td>\n",
       "      <td>0.10</td>\n",
       "      <td>3.0</td>\n",
       "    </tr>\n",
       "    <tr>\n",
       "      <th>19</th>\n",
       "      <td>1.0</td>\n",
       "      <td>0.95</td>\n",
       "      <td>19.0</td>\n",
       "      <td>0.05</td>\n",
       "      <td>4.0</td>\n",
       "    </tr>\n",
       "  </tbody>\n",
       "</table>\n",
       "</div>"
      ],
      "text/plain": [
       "      0     1     2     3    4\n",
       "0   0.0  0.00   0.0  1.00  0.0\n",
       "1   1.0  0.05   1.0  0.95  1.0\n",
       "2   0.0  0.10   2.0  0.90  2.0\n",
       "3   1.0  0.15   3.0  0.85  3.0\n",
       "4   0.0  0.20   4.0  0.80  4.0\n",
       "5   1.0  0.25   5.0  0.75  0.0\n",
       "6   0.0  0.30   6.0  0.70  1.0\n",
       "7   1.0  0.35   7.0  0.65  2.0\n",
       "8   0.0  0.40   8.0  0.60  3.0\n",
       "9   1.0  0.45   9.0  0.55  4.0\n",
       "10  0.0  0.50  10.0  0.50  0.0\n",
       "11  1.0  0.55  11.0  0.45  1.0\n",
       "12  0.0  0.60  12.0  0.40  2.0\n",
       "13  1.0  0.65  13.0  0.35  3.0\n",
       "14  0.0  0.70  14.0  0.30  4.0\n",
       "15  1.0  0.75  15.0  0.25  0.0\n",
       "16  0.0  0.80  16.0  0.20  1.0\n",
       "17  1.0  0.85  17.0  0.15  2.0\n",
       "18  0.0  0.90  18.0  0.10  3.0\n",
       "19  1.0  0.95  19.0  0.05  4.0"
      ]
     },
     "execution_count": 150,
     "metadata": {},
     "output_type": "execute_result"
    }
   ],
   "source": [
    "pd.DataFrame(X)"
   ]
  },
  {
   "cell_type": "code",
   "execution_count": 162,
   "metadata": {},
   "outputs": [
    {
     "data": {
      "text/plain": [
       "array([[False,  True,  True,  True,  True],\n",
       "       [ True,  True,  True,  True,  True],\n",
       "       [ True,  True,  True,  True,  True],\n",
       "       [ True,  True,  True,  True,  True],\n",
       "       [ True,  True,  True,  True,  True],\n",
       "       [False,  True,  True,  True, False],\n",
       "       [ True,  True,  True,  True,  True],\n",
       "       [False,  True,  True,  True,  True],\n",
       "       [ True,  True,  True,  True,  True],\n",
       "       [False, False, False,  True, False],\n",
       "       [False,  True,  True,  True,  True],\n",
       "       [ True,  True,  True,  True, False],\n",
       "       [ True,  True,  True,  True,  True],\n",
       "       [False,  True,  True,  True,  True],\n",
       "       [ True,  True,  True,  True, False]])"
      ]
     },
     "execution_count": 162,
     "metadata": {},
     "output_type": "execute_result"
    }
   ],
   "source": [
    "np.where(X[np.random.choice(np.arange(X.shape[0]), size=15, replace=False)], True, False)"
   ]
  },
  {
   "cell_type": "code",
   "execution_count": null,
   "metadata": {},
   "outputs": [],
   "source": [
    "X[np.random.choice(np.arange(X.shape[0]), size=15, replace=False)]"
   ]
  },
  {
   "cell_type": "code",
   "execution_count": 186,
   "metadata": {},
   "outputs": [],
   "source": [
    "tr_mask = np.zeros(df.shape[0], dtype=bool)\n",
    "tr_mask[:tr_n] = True\n",
    "np.random.shuffle(tr_mask)"
   ]
  },
  {
   "cell_type": "code",
   "execution_count": 189,
   "metadata": {},
   "outputs": [
    {
     "data": {
      "text/plain": [
       "array([False, False, False, ..., False,  True,  True])"
      ]
     },
     "execution_count": 189,
     "metadata": {},
     "output_type": "execute_result"
    }
   ],
   "source": [
    "a"
   ]
  },
  {
   "cell_type": "code",
   "execution_count": null,
   "metadata": {},
   "outputs": [],
   "source": []
  }
 ],
 "metadata": {
  "kernelspec": {
   "display_name": "Python 3",
   "language": "python",
   "name": "python3"
  },
  "language_info": {
   "codemirror_mode": {
    "name": "ipython",
    "version": 3
   },
   "file_extension": ".py",
   "mimetype": "text/x-python",
   "name": "python",
   "nbconvert_exporter": "python",
   "pygments_lexer": "ipython3",
   "version": "3.6.12"
  }
 },
 "nbformat": 4,
 "nbformat_minor": 4
}
